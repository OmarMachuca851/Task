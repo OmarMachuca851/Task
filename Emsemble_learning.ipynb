{
  "cells": [
    {
      "cell_type": "markdown",
      "metadata": {
        "id": "view-in-github",
        "colab_type": "text"
      },
      "source": [
        "<a href=\"https://colab.research.google.com/github/OmarMachuca851/Task/blob/main/Emsemble_learning.ipynb\" target=\"_parent\"><img src=\"https://colab.research.google.com/assets/colab-badge.svg\" alt=\"Open In Colab\"/></a>"
      ]
    },
    {
      "cell_type": "markdown",
      "id": "33d7c9da",
      "metadata": {
        "id": "33d7c9da"
      },
      "source": [
        "# Aprendizaje por conjunto"
      ]
    },
    {
      "cell_type": "code",
      "execution_count": 1,
      "id": "51352a1b",
      "metadata": {
        "colab": {
          "base_uri": "https://localhost:8080/"
        },
        "id": "51352a1b",
        "outputId": "8990be94-1aa7-4a25-c62c-cace2c7d913f"
      },
      "outputs": [
        {
          "output_type": "stream",
          "name": "stdout",
          "text": [
            "Training size: (1460, 2), Validation size: (1460, 2)\n"
          ]
        }
      ],
      "source": [
        "# Loading and Preparing Regresión Dataset to be esed\n",
        "\n",
        "import pandas as pd\n",
        "import numpy as np\n",
        "from sklearn.linear_model import LinearRegression\n",
        "from sklearn.svm import SVR\n",
        "from sklearn.tree import DecisionTreeRegressor\n",
        "from sklearn.metrics import mean_squared_error\n",
        "\n",
        "# Loading train.csv\n",
        "#from google.colab import files\n",
        "#uploaded = files.upload()\n",
        "\n",
        "dfTrain = pd.read_csv('train.csv')\n",
        "X_train = dfTrain[['GrLivArea', 'YearBuilt']].values\n",
        "y_train = dfTrain['SalePrice'].values\n",
        "\n",
        "dfTest = pd.read_csv('test.csv')\n",
        "X_test = dfTrain[['GrLivArea', 'YearBuilt']].values\n",
        "y_test = dfTrain['SalePrice'].values\n",
        "\n",
        "\n",
        "print(f'Training size: {X_train.shape}, Validation size: {X_test.shape}')\n"
      ]
    },
    {
      "cell_type": "markdown",
      "id": "0ca66493",
      "metadata": {
        "id": "0ca66493"
      },
      "source": [
        "## Problema 1: Impletación de scratch de Blending"
      ]
    },
    {
      "cell_type": "code",
      "execution_count": 2,
      "id": "5515de0d",
      "metadata": {
        "colab": {
          "base_uri": "https://localhost:8080/"
        },
        "id": "5515de0d",
        "outputId": "5ffb6883-ec16-480c-977f-f637942125cb"
      },
      "outputs": [
        {
          "output_type": "stream",
          "name": "stdout",
          "text": [
            "[Blending Results]\n",
            "mseLR=2182210639.22\n",
            "mseSVM=6457075183.24\n",
            "mseDT=1396971332.19\n",
            "mse_blended=2186798134.00\n"
          ]
        }
      ],
      "source": [
        "# Blending scratch mounting\n",
        "\n",
        "# Fitting different models\n",
        "modelLR = LinearRegression()\n",
        "modelSVM = SVR(kernel='rbf', C=1e3, gamma=0.1)\n",
        "modelDT = DecisionTreeRegressor(max_depth=5, random_state=0)\n",
        "\n",
        "modelLR.fit(X_train, y_train)\n",
        "modelSVM.fit(X_train, y_train)\n",
        "modelDT.fit(X_train, y_train)\n",
        "\n",
        "# Predicting on validation set\n",
        "predLR = modelLR.predict(X_test)\n",
        "predSVM = modelSVM.predict(X_test)\n",
        "predDT = modelDT.predict(X_test)\n",
        "\n",
        "# Blending: simple average\n",
        "blended_pred = (predLR + predSVM + predDT) / 3\n",
        "\n",
        "# Evaluating\n",
        "mseLR = mean_squared_error(y_test, predLR)\n",
        "mseSVM = mean_squared_error(y_test, predSVM)\n",
        "mseDT = mean_squared_error(y_test, predDT)\n",
        "mse_blended = mean_squared_error(y_test, blended_pred)\n",
        "\n",
        "print('[Blending Results]')\n",
        "print(f'{mseLR=:.2f}\\n{mseSVM=:.2f}\\n{mseDT=:.2f}\\n{mse_blended=:.2f}')"
      ]
    },
    {
      "cell_type": "markdown",
      "id": "6d0f1f45",
      "metadata": {
        "id": "6d0f1f45"
      },
      "source": [
        "## Problema 2: Implementación de scratch de Bagging"
      ]
    },
    {
      "cell_type": "code",
      "execution_count": 3,
      "id": "a476f9e8",
      "metadata": {
        "colab": {
          "base_uri": "https://localhost:8080/"
        },
        "id": "a476f9e8",
        "outputId": "cd466b21-257a-4584-da01-c8ca5207ad6c"
      },
      "outputs": [
        {
          "output_type": "stream",
          "name": "stdout",
          "text": [
            "[Bagging Results]\n",
            "mse_single_tree=1396971332.187403\n",
            "mse_bagged=1289477012.52\n"
          ]
        }
      ],
      "source": [
        "# Problem 2: Scratch mounting of bagging\n",
        "\n",
        "np.random.seed(0)\n",
        "n_models = 5\n",
        "bagged_preds = []\n",
        "\n",
        "for i in range(n_models):\n",
        "    # Bootstrap sample\n",
        "    indices = np.random.choice(len(X_train), size=len(X_train), replace=True)\n",
        "    X_sample = X_train[indices]\n",
        "    y_sample = y_train[indices]\n",
        "\n",
        "    # Using simple regressor for bagging (Decision Tree)\n",
        "    model = DecisionTreeRegressor(max_depth=5, random_state=0)\n",
        "    model.fit(X_sample, y_sample)\n",
        "    pred = model.predict(X_test)\n",
        "    bagged_preds.append(pred)\n",
        "\n",
        "# Average predictions\n",
        "bagged_pred = np.mean(bagged_preds, axis=0)\n",
        "\n",
        "# Evaluating\n",
        "mse_single_tree = mean_squared_error(y_test, modelDT.predict(X_test))\n",
        "mse_bagged = mean_squared_error(y_test, bagged_pred)\n",
        "\n",
        "print('[Bagging Results]')\n",
        "print(f'{mse_single_tree=:2f}\\n{mse_bagged=:.2f}')"
      ]
    },
    {
      "cell_type": "markdown",
      "id": "122f9fd8",
      "metadata": {
        "id": "122f9fd8"
      },
      "source": [
        "## Problema 3: Implementación scratch de Stacking"
      ]
    },
    {
      "cell_type": "code",
      "execution_count": 4,
      "id": "de31522e",
      "metadata": {
        "colab": {
          "base_uri": "https://localhost:8080/"
        },
        "id": "de31522e",
        "outputId": "157b43b8-dc53-493f-c390-ed410e32cffc"
      },
      "outputs": [
        {
          "output_type": "stream",
          "name": "stdout",
          "text": [
            "[Stacking Results]\n",
            "mse_base_LinearRegression=2182210639.22\n",
            "mse_base_DecisionTree=1396971332.19\n",
            "mse_stacked=1376567016.76\n"
          ]
        }
      ],
      "source": [
        "# Problem 3: Stacking scratch mounting\n",
        "\n",
        "# stage 0: Trainning base models\n",
        "baseLR = LinearRegression()\n",
        "baseDT = DecisionTreeRegressor(max_depth=5, random_state=1)\n",
        "\n",
        "baseLR.fit(X_train, y_train)\n",
        "baseDT.fit(X_train, y_train)\n",
        "\n",
        "# Blended data: base model prectitions (level 1 features)\n",
        "baseLR_train_pred = baseLR.predict(X_train)\n",
        "baseDT_train_pred = baseDT.predict(X_train)\n",
        "\n",
        "stacked_X_train = np.vstack((baseLR_train_pred, baseDT_train_pred)).T\n",
        "\n",
        "# stage 1: Trainnig meta model (simple Linear Regression)\n",
        "meta = LinearRegression()\n",
        "meta.fit(stacked_X_train, y_train)\n",
        "\n",
        "# Applying to validation\n",
        "baseLR_val_pred = baseLR.predict(X_test)\n",
        "baseDT_val_pred = baseDT.predict(X_test)\n",
        "\n",
        "stacked_X_val = np.vstack((baseLR_val_pred, baseDT_val_pred)).T\n",
        "stacked_pred = meta.predict(stacked_X_val)\n",
        "\n",
        "# Evaluating\n",
        "mse_base_LinearRegression = mean_squared_error(y_test, baseLR_val_pred)\n",
        "mse_base_DecisionTree = mean_squared_error(y_test, baseDT_val_pred)\n",
        "mse_stacked = mean_squared_error(y_test, stacked_pred)\n",
        "\n",
        "print('[Stacking Results]')\n",
        "print(f'{mse_base_LinearRegression=:.2f}\\n{mse_base_DecisionTree=:.2f}\\n{mse_stacked=:.2f}')"
      ]
    }
  ],
  "metadata": {
    "kernelspec": {
      "display_name": "python312",
      "language": "python",
      "name": "python3"
    },
    "language_info": {
      "codemirror_mode": {
        "name": "ipython",
        "version": 3
      },
      "file_extension": ".py",
      "mimetype": "text/x-python",
      "name": "python",
      "nbconvert_exporter": "python",
      "pygments_lexer": "ipython3",
      "version": "3.12.10"
    },
    "colab": {
      "provenance": [],
      "include_colab_link": true
    }
  },
  "nbformat": 4,
  "nbformat_minor": 5
}