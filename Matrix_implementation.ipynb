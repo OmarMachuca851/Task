{
  "cells": [
    {
      "cell_type": "markdown",
      "metadata": {
        "id": "view-in-github",
        "colab_type": "text"
      },
      "source": [
        "<a href=\"https://colab.research.google.com/github/OmarMachuca851/Task/blob/main/Matrix_implementation.ipynb\" target=\"_parent\"><img src=\"https://colab.research.google.com/assets/colab-badge.svg\" alt=\"Open In Colab\"/></a>"
      ]
    },
    {
      "cell_type": "markdown",
      "id": "659f622f",
      "metadata": {
        "id": "659f622f"
      },
      "source": [
        "# ***Implementation of matrix product***"
      ]
    },
    {
      "cell_type": "markdown",
      "id": "49c8025a",
      "metadata": {
        "id": "49c8025a"
      },
      "source": [
        "# ***Calculate matrix product manually***"
      ]
    },
    {
      "cell_type": "markdown",
      "id": "5e164c0b",
      "metadata": {
        "id": "5e164c0b"
      },
      "source": [
        "### Given A and B\n",
        "\n",
        "$$\n",
        "A = \\begin{bmatrix}\n",
        "-1 & 2 & 3 \\\\\n",
        "4 & -5 & 6 \\\\\n",
        "7 & 8 & -9\n",
        "\\end{bmatrix}, \\quad\n",
        "B = \\begin{bmatrix}\n",
        "0 & 2 & 1 \\\\\n",
        "0 & 2 & -8 \\\\\n",
        "2 & 9 & -1\n",
        "\\end{bmatrix}\n",
        "$$\n",
        "\n",
        "### Lets calculate the matrix product **C = A x B**\n",
        "#### Compute Each Element in **C**\n",
        "Weĺl calculate each element using the formula and given steps.\n",
        "* Combine each row of matrix A with each column of matrix **B**.\n",
        "* Multiply the corresponding elements and take the sum of all combinations.\n",
        "* Through multiplication and addition of the elements, each element of matrix C is\n",
        "\n",
        "**Row1 C[0, * ]**\n",
        "\n",
        "```ruby\n",
        "C[0,0] = (-1x0) + (2x0) +(3x2) = 0 + 0 + 6 = 6\n",
        "C[0,1] = (-1x2) + (2x2) +(3x9) = -2 + 4 + 27 = 29\n",
        "C[0,2] = (-1x2) + (2x-8) +(3x-1) = -1 - 16 - 3 = -20\n",
        "```\n",
        "\n",
        "**Row2 C[1, * ]**\n",
        "\n",
        "```python\n",
        "C[0,0] = (4x0) + (-5x0) +(6x2) = 0 + 0 + 12 = 12\n",
        "C[0,1] = (4x2) + (-5x2) +(6x9) = 8 - 10 + 54 = 52\n",
        "C[0,2] = (4x1) + (-5x-8) +(6x-1) = 4 + 40 - 6 = 38\n",
        "```\n",
        "\n",
        "**Row1 C[2, * ]**\n",
        "\n",
        "```c++\n",
        "C[0,0] = (7x0) + (8x0) +(-9x2) = 0 + 0 - 18 = -18\n",
        "C[0,1] = (7x2) + (8x2) +(-9x9) = 14 + 16 - 81 = -51\n",
        "C[0,2] = (7x1) + (8x-8) +(-9x-1) = 7 - 64 + 9 = -48\n",
        "```\n",
        "\n",
        "### Final Matrix result **C**\n",
        "$$\n",
        "C = \\begin{bmatrix}\n",
        "6 & 29 & -20 \\\\\n",
        "12 & 52 & 38 \\\\\n",
        "-18 & -51 & -48\n",
        "\\end{bmatrix} \\quad\n",
        "$$"
      ]
    },
    {
      "cell_type": "markdown",
      "id": "7be2d311",
      "metadata": {
        "vscode": {
          "languageId": "plaintext"
        },
        "id": "7be2d311"
      },
      "source": [
        "## ***Problem 2: Calculating matrix products using numpy***"
      ]
    },
    {
      "cell_type": "code",
      "execution_count": 7,
      "id": "2b0e3f7c",
      "metadata": {
        "colab": {
          "base_uri": "https://localhost:8080/"
        },
        "id": "2b0e3f7c",
        "outputId": "213e128d-658f-44e5-fc67-1ce7d52da52a"
      },
      "outputs": [
        {
          "output_type": "stream",
          "name": "stdout",
          "text": [
            "Result using np.matmul(): \n",
            "[[  6  29 -20]\n",
            " [ 12  52  38]\n",
            " [-18 -51 -48]]\n",
            "\n",
            "REsult using np.dot():\n",
            "[[  6  29 -20]\n",
            " [ 12  52  38]\n",
            " [-18 -51 -48]]\n",
            "\n",
            "Result using @ operator:\n",
            "[[  6  29 -20]\n",
            " [ 12  52  38]\n",
            " [-18 -51 -48]]\n"
          ]
        }
      ],
      "source": [
        "import numpy as np\n",
        "\n",
        "a_ndarray = np.array([[-1, 2, 3], [4, -5, 6], [7, 8, -9]])\n",
        "b_ndarray = np.array([[0, 2, 1], [0, 2, -8], [2, 9, -1]])\n",
        "\n",
        "result1 = np.matmul(a_ndarray, b_ndarray)\n",
        "print(f'Result using np.matmul(): \\n{result1}')\n",
        "\n",
        "result2 = np.dot(a_ndarray, b_ndarray)\n",
        "print(f'\\nREsult using np.dot():\\n{result2}')\n",
        "\n",
        "result3 = a_ndarray @ b_ndarray\n",
        "print(f'\\nResult using @ operator:\\n{result3}')"
      ]
    },
    {
      "cell_type": "markdown",
      "id": "58c2c81e",
      "metadata": {
        "id": "58c2c81e"
      },
      "source": [
        "## ***Problem 3: Implementation of calculation of a certain element***"
      ]
    },
    {
      "cell_type": "code",
      "execution_count": 8,
      "id": "a755baa2",
      "metadata": {
        "colab": {
          "base_uri": "https://localhost:8080/"
        },
        "id": "a755baa2",
        "outputId": "52eb88d5-b15f-4e14-fce1-0bea78c0b5a8"
      },
      "outputs": [
        {
          "output_type": "stream",
          "name": "stdout",
          "text": [
            "The (0,0) element the result matrix is: 6\n"
          ]
        }
      ],
      "source": [
        "a_ndarray = np.array([[-1, 2, 3], [4, -5, 6], [7, 8, -9]])\n",
        "b_ndarray = np.array([[0, 2, 1], [0, 2, -8], [2, 9, -1]])\n",
        "\n",
        "#calculate the (0,0) element of the result matrix\n",
        "element_0_0 = 0\n",
        "for k in range(3):\n",
        "    element_0_0 += a_ndarray[0, k] * b_ndarray[k, 0]\n",
        "\n",
        "print(f'The (0,0) element the result matrix is: {element_0_0}')"
      ]
    },
    {
      "cell_type": "markdown",
      "id": "f92585d5",
      "metadata": {
        "id": "f92585d5"
      },
      "source": [
        "## ***Problem 4: Implement matrix multiplication function***"
      ]
    },
    {
      "cell_type": "code",
      "execution_count": 9,
      "id": "bb5cae4f",
      "metadata": {
        "colab": {
          "base_uri": "https://localhost:8080/"
        },
        "id": "bb5cae4f",
        "outputId": "4b167553-0e33-45a6-d892-ac7dbd1ea91f"
      },
      "outputs": [
        {
          "output_type": "stream",
          "name": "stdout",
          "text": [
            "Result of matrix multiplication: \n",
            "[[  6.  29. -20.]\n",
            " [ 12.  52.  38.]\n",
            " [-18. -51. -48.]]\n"
          ]
        }
      ],
      "source": [
        "def matrix_multiply(a, b):\n",
        "    # get dimendions of the matrices\n",
        "    a_rows, a_cols  = a.shape\n",
        "    b_rows, b_cols = b.shape\n",
        "\n",
        "    #check if matrices can be multiplied\n",
        "    if a_cols != b_rows:\n",
        "        raise ValueError('incompatible')\n",
        "\n",
        "    #initialize result matrix\n",
        "    result = np.zeros((a_rows, b_cols))\n",
        "\n",
        "    #calcuate each element of the result matrix\n",
        "    for i in range(a_rows):\n",
        "        for j in range(b_cols):\n",
        "            for k in range(a_cols):\n",
        "                result[i, j] += a[i, k] * b[k, j]\n",
        "\n",
        "    return result\n",
        "# compute product\n",
        "a_ndarray = np.array([[-1, 2, 3], [4, -5, 6], [7, 8, -9]])\n",
        "b_ndarray = np.array([[0, 2, 1], [0, 2, -8], [2, 9, -1]])\n",
        "\n",
        "result = matrix_multiply(a_ndarray, b_ndarray)\n",
        "print(f'Result of matrix multiplication: \\n{result}')"
      ]
    },
    {
      "cell_type": "markdown",
      "id": "eb80090f",
      "metadata": {
        "id": "eb80090f"
      },
      "source": [
        "## ***Problem 5: Judge the input whose calculation is not defined***"
      ]
    },
    {
      "cell_type": "code",
      "execution_count": 10,
      "id": "ba53ba7c",
      "metadata": {
        "colab": {
          "base_uri": "https://localhost:8080/"
        },
        "id": "ba53ba7c",
        "outputId": "3eaadc8a-cfd0-498e-eecd-663297448e2a"
      },
      "outputs": [
        {
          "output_type": "stream",
          "name": "stdout",
          "text": [
            "Error: Matrix multiplication no defined.\n",
            "Matrix A has shape (2, 3) and matrix B has shape (2, 3).\n",
            "For matrix multiplication  to be defined, the number of columns in A(3) must equal the number of rows in B (2).\n",
            "Result of matrix multiplication: \n",
            "None\n"
          ]
        }
      ],
      "source": [
        "def matrix_multiply(a, b):\n",
        "    # get dimendions of the matrices\n",
        "    a_rows, a_cols  = a.shape\n",
        "    b_rows, b_cols = b.shape\n",
        "\n",
        "    #check if matrices can be multiplied\n",
        "    if a_cols != b_rows:\n",
        "        print('Error: Matrix multiplication no defined.')\n",
        "        print(f'Matrix A has shape ({a_rows}, {a_cols}) and matrix B has shape ({b_rows}, {b_cols}).')\n",
        "        print(f'For matrix multiplication  to be defined, the number of columns in A({a_cols}) must equal the number of rows in B ({b_rows}).')\n",
        "        return None\n",
        "\n",
        "    #initialize result matrix\n",
        "    result = np.zeros((a_rows, b_cols))\n",
        "\n",
        "    #calcuate each element of the result matrix\n",
        "    for i in range(a_rows):\n",
        "        for j in range(b_cols):\n",
        "            for k in range(a_cols):\n",
        "                result[i, j] += a[i, k] * b[k, j]\n",
        "\n",
        "    return result\n",
        "\n",
        "d_ndarray = np.array([[-1, 2, 3], [4, -5, 6]])\n",
        "e_ndarray = np.array([[0, 2, 1], [0, 2, -8]])\n",
        "\n",
        "result = matrix_multiply(d_ndarray, e_ndarray)\n",
        "print(f'Result of matrix multiplication: \\n{result}')"
      ]
    },
    {
      "cell_type": "markdown",
      "id": "0200fdfc",
      "metadata": {
        "id": "0200fdfc"
      },
      "source": [
        "## ***Problem 6: Transposition***"
      ]
    },
    {
      "cell_type": "code",
      "execution_count": 11,
      "id": "d7492cb8",
      "metadata": {
        "colab": {
          "base_uri": "https://localhost:8080/"
        },
        "id": "d7492cb8",
        "outputId": "a278826b-4077-4b14-b971-5bfe2dabc69d"
      },
      "outputs": [
        {
          "output_type": "stream",
          "name": "stdout",
          "text": [
            "D shape: (2, 3)\n",
            "E shape: (2, 3)\n",
            "Error: Matrix multiplication no defined.\n",
            "Matrix A has shape (2, 3) and matrix B has shape (2, 3).\n",
            "For matrix multiplication  to be defined, the number of columns in A(3) must equal the number of rows in B (2).\n",
            "Result:\n",
            "None\n",
            "D sahpe: (2, 3)\n",
            "Transposed E sahpe: \n",
            "(3, 2)\n",
            "Result:\n",
            "[[ 46.  -4.]\n",
            " [-34.  73.]]\n"
          ]
        }
      ],
      "source": [
        "# matrices with undefined matrix products\n",
        "d_ndarray = np.array([[-1, 2, 3], [4, -5, 6]])\n",
        "e_ndarray = np.array([[-9, 8, 7], [6, -5, 4]])\n",
        "print(f'D shape: {d_ndarray.shape}')\n",
        "print(f'E shape: {e_ndarray.shape}')\n",
        "\n",
        "result = matrix_multiply(d_ndarray, e_ndarray)\n",
        "print(f'Result:\\n{result}')\n",
        "\n",
        "#transpose E to make multiplication possible\n",
        "e_ndarray_transposed = e_ndarray.T\n",
        "print(f'D sahpe: {d_ndarray.shape}')\n",
        "print(f'Transposed E sahpe: \\n{e_ndarray_transposed.shape}')\n",
        "\n",
        "result = matrix_multiply(d_ndarray, e_ndarray_transposed)\n",
        "print(f\"Result:\\n{result}\")"
      ]
    }
  ],
  "metadata": {
    "kernelspec": {
      "display_name": "python311",
      "language": "python",
      "name": "python3"
    },
    "language_info": {
      "codemirror_mode": {
        "name": "ipython",
        "version": 3
      },
      "file_extension": ".py",
      "mimetype": "text/x-python",
      "name": "python",
      "nbconvert_exporter": "python",
      "pygments_lexer": "ipython3",
      "version": "3.11.10"
    },
    "colab": {
      "provenance": [],
      "include_colab_link": true
    }
  },
  "nbformat": 4,
  "nbformat_minor": 5
}