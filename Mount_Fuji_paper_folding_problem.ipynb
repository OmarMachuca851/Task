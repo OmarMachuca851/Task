{
  "nbformat": 4,
  "nbformat_minor": 0,
  "metadata": {
    "colab": {
      "provenance": [],
      "authorship_tag": "ABX9TyMHlHlLTOH20VdDNnm9l+MK",
      "include_colab_link": true
    },
    "kernelspec": {
      "name": "python3",
      "display_name": "Python 3"
    },
    "language_info": {
      "name": "python"
    }
  },
  "cells": [
    {
      "cell_type": "markdown",
      "metadata": {
        "id": "view-in-github",
        "colab_type": "text"
      },
      "source": [
        "<a href=\"https://colab.research.google.com/github/OmarMachuca851/Task/blob/main/Mount_Fuji_paper_folding_problem.ipynb\" target=\"_parent\"><img src=\"https://colab.research.google.com/assets/colab-badge.svg\" alt=\"Open In Colab\"/></a>"
      ]
    },
    {
      "cell_type": "markdown",
      "source": [
        "# ***Problem 1:*** *How many times would it take to fold it to surpass Mount Fuji?*"
      ],
      "metadata": {
        "id": "3q8PNLtozmeP"
      }
    },
    {
      "cell_type": "code",
      "source": [
        "THICKNESS = 0.00008 #in meters\n",
        "MT_FUJI = 3776 #in meters\n",
        "\n",
        "fold_times = 0\n",
        "current_thickness = THICKNESS\n",
        "while current_thickness < MT_FUJI:\n",
        "    fold_times += 1\n",
        "    current_thickness *= 2\n",
        "\n",
        "print(f\"Exceeded Mount Fuji on the {fold_times}th fold\")"
      ],
      "metadata": {
        "colab": {
          "base_uri": "https://localhost:8080/"
        },
        "id": "VGUTWhaK0mqs",
        "outputId": "caec0190-5928-428b-a204-d2c2ba2a9356"
      },
      "execution_count": 1,
      "outputs": [
        {
          "output_type": "stream",
          "name": "stdout",
          "text": [
            "Exceeded Mount Fuji on the 26th fold\n"
          ]
        }
      ]
    },
    {
      "cell_type": "markdown",
      "source": [
        "# ***Problem 2:*** *Function corresponding to any thickness*"
      ],
      "metadata": {
        "id": "2UIHQ4MYz24M"
      }
    },
    {
      "cell_type": "code",
      "source": [
        "DISTANCE_PROXIMA_CENTAURI = 4.0175e16 #in meters\n",
        "\n",
        "def arbitary_thickness(distance):\n",
        "    fold_times = 0\n",
        "    current_thickness = THICKNESS\n",
        "    while current_thickness < distance:\n",
        "        fold_times += 1\n",
        "        current_thickness *= 2\n",
        "    return fold_times\n",
        "\n",
        "print(f\"Exceeded Proxima Centauri on the {arbitary_thickness(DISTANCE_PROXIMA_CENTAURI)}th fold\")"
      ],
      "metadata": {
        "colab": {
          "base_uri": "https://localhost:8080/"
        },
        "id": "vcB62NVQ0IGe",
        "outputId": "e7e935e8-44af-4ad8-bdd4-ef80e8dc1b4a"
      },
      "execution_count": 2,
      "outputs": [
        {
          "output_type": "stream",
          "name": "stdout",
          "text": [
            "Exceeded Proxima Centauri on the 69th fold\n"
          ]
        }
      ]
    },
    {
      "cell_type": "markdown",
      "source": [
        "# ***Problem 3:*** *Required length of paper*"
      ],
      "metadata": {
        "id": "je_nK8a30Mcb"
      }
    },
    {
      "cell_type": "code",
      "source": [
        "import math\n",
        "\n",
        "DISTANCE_TO_MOON = 384400000 #in meters\n",
        "\n",
        "def required_paper_length(distance):\n",
        "    folds = arbitary_thickness(distance)\n",
        "    return (math.pi * THICKNESS/6) * (2**folds + 4) * (2**folds - 1)\n",
        "\n",
        "#calculate number of folds for each height\n",
        "length_to_fuji = required_paper_length(MT_FUJI)\n",
        "length_to_moon = required_paper_length(DISTANCE_TO_MOON)\n",
        "length_to_proxima_centauri = required_paper_length(DISTANCE_PROXIMA_CENTAURI)\n",
        "\n",
        "print(f\"Length of paper required to reach the height of Mt. Fuji: {length_to_fuji} meters\")\n",
        "print(f\"Length of paper required to reach the distance to the Moon: {length_to_moon} meters\")\n",
        "print(f\"Length of paper required to reach the distance to the Proxima Centauri: {length_to_proxima_centauri} meters\")"
      ],
      "metadata": {
        "colab": {
          "base_uri": "https://localhost:8080/"
        },
        "id": "xyAE3ar20V_I",
        "outputId": "ca8cb2b4-be3e-488c-ea1b-ee172e539a00"
      },
      "execution_count": 6,
      "outputs": [
        {
          "output_type": "stream",
          "name": "stdout",
          "text": [
            "Length of paper required to reach the height of Mt. Fuji: 188646348487.24017 meters\n",
            "Length of paper required to reach the distance to the Moon: 3.240919444170781e+21 meters\n",
            "Length of paper required to reach the distance to the Proxima Centauri: 1.4595803601100348e+37 meters\n"
          ]
        }
      ]
    }
  ]
}