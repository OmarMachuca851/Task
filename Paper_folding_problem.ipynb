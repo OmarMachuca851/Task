{
  "nbformat": 4,
  "nbformat_minor": 0,
  "metadata": {
    "colab": {
      "provenance": [],
      "authorship_tag": "ABX9TyM/NzdKCwr4dJUqVHBCNm2d",
      "include_colab_link": true
    },
    "kernelspec": {
      "name": "python3",
      "display_name": "Python 3"
    },
    "language_info": {
      "name": "python"
    }
  },
  "cells": [
    {
      "cell_type": "markdown",
      "metadata": {
        "id": "view-in-github",
        "colab_type": "text"
      },
      "source": [
        "<a href=\"https://colab.research.google.com/github/OmarMachuca851/Task/blob/main/Paper_folding_problem.ipynb\" target=\"_parent\"><img src=\"https://colab.research.google.com/assets/colab-badge.svg\" alt=\"Open In Colab\"/></a>"
      ]
    },
    {
      "cell_type": "markdown",
      "source": [
        "# ***Paper folding problem***"
      ],
      "metadata": {
        "id": "mtVrzSrXiyPy"
      }
    },
    {
      "cell_type": "markdown",
      "source": [
        "## ***Problem 1:*** *Implementation using arithmetic operators of powers*"
      ],
      "metadata": {
        "id": "wOuLhl8MkvVA"
      }
    },
    {
      "cell_type": "code",
      "source": [
        "THICKNESS = 0.00008\n",
        "\n",
        "folded_thickness = THICKNESS * 2 ** 43\n",
        "\n",
        "print(f\"Thickness {folded_thickness: .2f} meters\")"
      ],
      "metadata": {
        "colab": {
          "base_uri": "https://localhost:8080/"
        },
        "id": "w3-T1G7li9uT",
        "outputId": "218c3d7f-f66f-4f75-9faf-2ac89ec2dc2d"
      },
      "execution_count": null,
      "outputs": [
        {
          "output_type": "stream",
          "name": "stdout",
          "text": [
            "Thickness  703687441.78 meters\n"
          ]
        }
      ]
    },
    {
      "cell_type": "markdown",
      "source": [
        "## ***Problem 2:*** *Unit conversion*"
      ],
      "metadata": {
        "id": "whMTEgBsnCKM"
      }
    },
    {
      "cell_type": "code",
      "source": [
        "thickness_kilometers = folded_thickness / 1000\n",
        "thickness_relative_10000km = thickness_kilometers / 10000\n",
        "print(f\"Thickness[km]: {thickness_kilometers: .2f}\")\n",
        "print(f\"Thickness[relative 10000km]: {thickness_relative_10000km: .2f}\")"
      ],
      "metadata": {
        "colab": {
          "base_uri": "https://localhost:8080/"
        },
        "id": "Z1AJ5Q2qnWWV",
        "outputId": "8104ef2c-6d67-458f-e797-023304687e07"
      },
      "execution_count": null,
      "outputs": [
        {
          "output_type": "stream",
          "name": "stdout",
          "text": [
            "Thickness[km]:  703687.44\n",
            "Thickness[relative 10000km]:  70.37\n"
          ]
        }
      ]
    },
    {
      "cell_type": "markdown",
      "source": [
        "## ***Problem 3:*** *Created using a for statement*"
      ],
      "metadata": {
        "id": "PVIabZ9JpPCs"
      }
    },
    {
      "cell_type": "code",
      "source": [
        "folded_thickness2 = THICKNESS\n",
        "folded_times = 43\n",
        "\n",
        "for i in range(folded_times):\n",
        "  folded_thickness2 *= 2\n",
        "\n",
        "print(f\"Thickness {folded_thickness2: .2f} meters\")"
      ],
      "metadata": {
        "colab": {
          "base_uri": "https://localhost:8080/"
        },
        "id": "Ep_NiAN_pK4b",
        "outputId": "dc028f9f-9615-45c9-baf6-b1e692145572"
      },
      "execution_count": null,
      "outputs": [
        {
          "output_type": "stream",
          "name": "stdout",
          "text": [
            "Thickness  703687441.78 meters\n"
          ]
        }
      ]
    },
    {
      "cell_type": "markdown",
      "source": [
        "## ***Problem 4:*** *comparison of calculate times*"
      ],
      "metadata": {
        "id": "rT_wUKYrqwKT"
      }
    },
    {
      "cell_type": "code",
      "source": [
        "import time\n",
        "CYCLES = 20\n",
        "\n",
        "elapsed_time_sum = 0\n",
        "for c in range(CYCLES):\n",
        "  start = time.time()\n",
        "  folded_thickness = THICKNESS * 2 ** 43\n",
        "  elapsed_time_sum += time.time() -start\n",
        "\n",
        "elapsed_time_prom = elapsed_time_sum / CYCLES\n",
        "print(f\"Thickness {folded_thickness: .2f} meters\")\n",
        "print(f\"Elapsed time: {elapsed_time_prom*1e9: .2f} nanoseconds\")\n"
      ],
      "metadata": {
        "colab": {
          "base_uri": "https://localhost:8080/"
        },
        "id": "52F98C1qqgvc",
        "outputId": "47e95c75-9197-4483-ffac-efeb0cecec42"
      },
      "execution_count": null,
      "outputs": [
        {
          "output_type": "stream",
          "name": "stdout",
          "text": [
            "Thickness  703687441.78 meters\n",
            "Elapsed time:  398.16 nanoseconds\n"
          ]
        }
      ]
    },
    {
      "cell_type": "code",
      "source": [
        "import time\n",
        "CYCLES = 20\n",
        "\n",
        "elapsed_time_sum = 0\n",
        "for c in range(CYCLES):\n",
        "  start = time.time()\n",
        "  folded_thickness2 = THICKNESS\n",
        "  for i in range(43):\n",
        "    folded_thickness2 *= 2\n",
        "  elapsed_time_sum += time.time() -start\n",
        "\n",
        "elapsed_time_prom = elapsed_time_sum / CYCLES\n",
        "print(f\"Thickness {folded_thickness2: .2f} meters\")\n",
        "print(f\"Elapsed time: {elapsed_time_prom*1e9: .2f} nanoseconds\")"
      ],
      "metadata": {
        "colab": {
          "base_uri": "https://localhost:8080/"
        },
        "id": "YAKkQ6ourPFp",
        "outputId": "d383cdd6-cf8a-4e1c-fa33-c9323784c470"
      },
      "execution_count": null,
      "outputs": [
        {
          "output_type": "stream",
          "name": "stdout",
          "text": [
            "Thickness  703687441.78 meters\n",
            "Elapsed time:  8327.96 nanoseconds\n"
          ]
        }
      ]
    },
    {
      "cell_type": "markdown",
      "source": [
        "## ***Problem 5:*** *Saving to a list*"
      ],
      "metadata": {
        "id": "5ZffKp6_5uCv"
      }
    },
    {
      "cell_type": "code",
      "source": [
        "no_of_folds = 43\n",
        "\n",
        "folded_thickness = THICKNESS\n",
        "folded_thickness_values = [folded_thickness]\n",
        "for i in range(no_of_folds):\n",
        "  folded_thickness *= 2\n",
        "  folded_thickness_values.append(folded_thickness)\n",
        "\n",
        "print(f\"Thickness values: {folded_thickness_values}\")\n"
      ],
      "metadata": {
        "colab": {
          "base_uri": "https://localhost:8080/"
        },
        "id": "H2-AMoGf53AB",
        "outputId": "3edc2928-4c66-4f7d-a3cc-3feb5177ef0c"
      },
      "execution_count": null,
      "outputs": [
        {
          "output_type": "stream",
          "name": "stdout",
          "text": [
            "Thickness values: [8e-05, 0.00016, 0.00032, 0.00064, 0.00128, 0.00256, 0.00512, 0.01024, 0.02048, 0.04096, 0.08192, 0.16384, 0.32768, 0.65536, 1.31072, 2.62144, 5.24288, 10.48576, 20.97152, 41.94304, 83.88608, 167.77216, 335.54432, 671.08864, 1342.17728, 2684.35456, 5368.70912, 10737.41824, 21474.83648, 42949.67296, 85899.34592, 171798.69184, 343597.38368, 687194.76736, 1374389.53472, 2748779.06944, 5497558.13888, 10995116.27776, 21990232.55552, 43980465.11104, 87960930.22208, 175921860.44416, 351843720.88832, 703687441.77664]\n"
          ]
        }
      ]
    },
    {
      "cell_type": "markdown",
      "source": [
        "## ***Problem 6:*** *Displaying a line graph*"
      ],
      "metadata": {
        "id": "0pHEJezi7VNV"
      }
    },
    {
      "cell_type": "code",
      "source": [
        "import matplotlib.pyplot as plt\n",
        "\n",
        "fig, ax = plt.subplots()\n",
        "\n",
        "ax.plot(folded_thickness_values)\n",
        "ax.set_xlabel(\"Number of folds\")\n",
        "ax.set_ylabel(\"Thickness [m]\")\n",
        "ax.set_title(\"Thickness vs Number of folds\")\n",
        "plt.show()\n",
        "print(\"El espesor del papel aumenta de manera exponencial\")"
      ],
      "metadata": {
        "colab": {
          "base_uri": "https://localhost:8080/",
          "height": 489
        },
        "id": "9ZlR67hs9yj5",
        "outputId": "230bdc95-c968-41d9-a7c4-1eedf107c7ef"
      },
      "execution_count": null,
      "outputs": [
        {
          "output_type": "display_data",
          "data": {
            "text/plain": [
              "<Figure size 640x480 with 1 Axes>"
            ],
            "image/png": "[encoded data removed]"
          },
          "metadata": {}
        },
        {
          "output_type": "stream",
          "name": "stdout",
          "text": [
            "El espesor del papel aumenta de manera exponencial\n"
          ]
        }
      ]
    },
    {
      "cell_type": "markdown",
      "source": [
        "## ***Problem 7:*** *Customizing graphs*"
      ],
      "metadata": {
        "id": "xvh6rauB-ji1"
      }
    },
    {
      "cell_type": "code",
      "source": [
        "import matplotlib.pyplot as plt\n",
        "\n",
        "fig, ax = plt.subplots()\n",
        "\n",
        "fontdict  = {'family':'serif', 'color':'darkblue', 'weight':'normal', 'size':16}\n",
        "\n",
        "ax.plot(folded_thickness_values, color='green', linestyle='-.', linewidth=3)\n",
        "ax.set_xlabel(\"Number of folds\", fontdict=fontdict)\n",
        "ax.set_ylabel(\"Thickness [m]\", fontdict=fontdict)\n",
        "ax.set_title(\"Thickness vs Number of folds\", fontdict=fontdict)\n",
        "ax.grid()\n",
        "plt.show()"
      ],
      "metadata": {
        "colab": {
          "base_uri": "https://localhost:8080/",
          "height": 483
        },
        "id": "jAOjtQxt7cbo",
        "outputId": "cfc6ad59-5691-4b1d-d325-b9cd359d9b4f"
      },
      "execution_count": null,
      "outputs": [
        {
          "output_type": "display_data",
          "data": {
            "text/plain": [
              "<Figure size 640x480 with 1 Axes>"
            ],
            "image/png": "[encoded data removed]"
          },
          "metadata": {}
        }
      ]
    }
  ]
}