{
  "cells": [
    {
      "cell_type": "markdown",
      "metadata": {
        "id": "view-in-github",
        "colab_type": "text"
      },
      "source": [
        "<a href=\"https://colab.research.google.com/github/OmarMachuca851/Task/blob/main/TensorFlow.ipynb\" target=\"_parent\"><img src=\"https://colab.research.google.com/assets/colab-badge.svg\" alt=\"Open In Colab\"/></a>"
      ]
    },
    {
      "cell_type": "markdown",
      "id": "e8fc5b07",
      "metadata": {
        "id": "e8fc5b07"
      },
      "source": [
        "# TensorFlow"
      ]
    },
    {
      "cell_type": "markdown",
      "id": "ba164e00",
      "metadata": {
        "id": "ba164e00"
      },
      "source": [
        "## Problema 1: mirada retrospectiva a scratch"
      ]
    },
    {
      "cell_type": "markdown",
      "id": "1221ebf4",
      "metadata": {
        "id": "1221ebf4"
      },
      "source": [
        "1. Inicialización de pesos.\n",
        "2. Definir forward propagation.\n",
        "3. Calcular la perdida, incluido el error medio cuadratico y cross-entropy.\n",
        "4. Implementación de back propagation.\n",
        "5. Implementación de la actualización de parametros de gradientes.\n",
        "6. Definir número de bucle de epoca.\n",
        "7. implementación de mini-batch.\n",
        "8. Evaluación de precición.\n",
        "9. preprocesamiento de datos: cargar, dividir y normalizar."
      ]
    },
    {
      "cell_type": "markdown",
      "id": "4d191c9f",
      "metadata": {
        "id": "4d191c9f"
      },
      "source": [
        "## Problema 2: Considerando la compatibilidad entre Scratch y TensorFlow"
      ]
    },
    {
      "cell_type": "markdown",
      "id": "e04287f7",
      "metadata": {
        "id": "e04287f7"
      },
      "source": [
        "1. Inicialización de los pesos: `tf.Variable(tf.random_normal(...))`\n",
        "2. Forward propagation: `tf.matmul`, `tf.add`, `tf.nnrelu`\n",
        "3. cálculo de pérdida: `tf.nn.sigmoid_cross_entropy_with_logits`\n",
        "4. Back propagation: `optimizer.minimize(loss_op)`\n",
        "5. actualización de parametros: `train_op = optimizer.minimize(...)`\n",
        "6. epoch loop: `for epoch in range(num_epochs)`\n",
        "7. manejo con minibatch: `GetMiniBatch` con `for x, y, in ...`\n",
        "8. Cálculo de accuracy: `tf.equal(...)`, `tf.reduce_mean(...)`\n",
        "9. preprocesamiento de datos: `pandas`, `numpy` y `sklearn`"
      ]
    },
    {
      "cell_type": "markdown",
      "id": "d2dbfbf3",
      "metadata": {
        "id": "d2dbfbf3"
      },
      "source": [
        "## Problema 3: Crear un modelo para Iris utilizando los tres tipos de variables objetivo"
      ]
    },
    {
      "cell_type": "code",
      "execution_count": 7,
      "id": "6d596223",
      "metadata": {
        "colab": {
          "base_uri": "https://localhost:8080/"
        },
        "id": "6d596223",
        "outputId": "c9d4b757-4579-491c-a43d-8a2dfd022719"
      },
      "outputs": [
        {
          "output_type": "stream",
          "name": "stdout",
          "text": [
            "Epoch 0, val_loss: 208.2202, val_acc: 0.3333\n",
            "Epoch 10, val_loss: 1.6998, val_acc: 0.7500\n",
            "Epoch 20, val_loss: 0.2760, val_acc: 0.8333\n",
            "Epoch 30, val_loss: 0.1904, val_acc: 0.9167\n",
            "Epoch 40, val_loss: 0.2080, val_acc: 0.9167\n",
            "Epoch 50, val_loss: 0.1279, val_acc: 0.9583\n",
            "Epoch 60, val_loss: 0.1031, val_acc: 0.9167\n",
            "Epoch 70, val_loss: 0.1216, val_acc: 0.9167\n",
            "Epoch 80, val_loss: 0.1351, val_acc: 0.9167\n",
            "Epoch 90, val_loss: 0.1563, val_acc: 0.9167\n",
            "test Accuracy:  0.93333334\n"
          ]
        }
      ],
      "source": [
        "import numpy as np\n",
        "import pandas as pd\n",
        "from sklearn.model_selection import train_test_split\n",
        "from sklearn.preprocessing import LabelBinarizer\n",
        "import tensorflow.compat.v1 as tf\n",
        "tf.disable_v2_behavior()\n",
        "\n",
        "# Loading Iris dataset\n",
        "df = pd.read_csv(\"data/Iris.csv\")\n",
        "X = df[[\"SepalLengthCm\", \"SepalWidthCm\", \"PetalLengthCm\", \"PetalWidthCm\"]].values\n",
        "y = df[\"Species\"].values\n",
        "\n",
        "# One-hot encode labels\n",
        "encoder = LabelBinarizer()\n",
        "y = encoder.fit_transform(y)\n",
        "\n",
        "# Split data\n",
        "X_train, X_test, y_train, y_test = train_test_split(X, y, test_size=0.2, random_state=0)\n",
        "X_train, X_val, y_train, y_val = train_test_split(X_train, y_train, test_size=0.2, random_state=0)\n",
        "\n",
        "# Hyperparameters\n",
        "lr = 0.001\n",
        "batch_size = 10\n",
        "num_epochs = 100\n",
        "n_input = X_train.shape[1]\n",
        "n_hidden1, n_hidden2 = 50, 100\n",
        "n_classes = 3\n",
        "n_samples = X_train.shape[0]\n",
        "\n",
        "# Placerholder\n",
        "X_ph = tf.placeholder(tf.float32, [None, n_input])\n",
        "Y_ph = tf.placeholder(tf.float32, [None, n_classes])\n",
        "\n",
        "# Weights and biases\n",
        "weights = {\n",
        "    'w1': tf.Variable(tf.random_normal([n_input, n_hidden1])),\n",
        "    'w2': tf.Variable(tf.random_normal([n_hidden1, n_hidden2])),\n",
        "    'w3': tf.Variable(tf.random_normal([n_hidden2, n_classes]))\n",
        "}\n",
        "biases = {\n",
        "    'b1': tf.Variable(tf.random_normal([n_hidden1])),\n",
        "    'b2': tf.Variable(tf.random_normal([n_hidden2])),\n",
        "    'b3': tf.Variable(tf.random_normal([n_classes]))\n",
        "}\n",
        "\n",
        "# Model\n",
        "def model(x):\n",
        "    l1 = tf.nn.relu(tf.add(tf.matmul(x, weights['w1']), biases['b1']))\n",
        "    l2 = tf.nn.relu(tf.add(tf.matmul(l1, weights['w2']), biases['b2']))\n",
        "    return tf.matmul(l2, weights['w3'])\n",
        "\n",
        "logits = model(X_ph)\n",
        "\n",
        "#Loss and optimizer\n",
        "loss_op = tf.reduce_mean(tf.nn.softmax_cross_entropy_with_logits(labels=Y_ph, logits=logits))\n",
        "optimizer = tf.train.AdamOptimizer(learning_rate=lr).minimize(loss_op)\n",
        "\n",
        "# Accuracy\n",
        "correct_pred = tf.equal(tf.arg_max(logits, 1), tf.argmax(Y_ph, 1))\n",
        "accuracy = tf.reduce_mean(tf.cast(correct_pred, tf.float32))\n",
        "\n",
        "init = tf.global_variables_initializer()\n",
        "\n",
        "# Training\n",
        "with tf.Session() as sess:\n",
        "    sess.run(init)\n",
        "    for epoch in range(num_epochs):\n",
        "        for i in range(0, n_samples, batch_size):\n",
        "            x_batch = X_train[i: i+batch_size]\n",
        "            y_batch = y_train[i: i+batch_size]\n",
        "            sess.run(optimizer, feed_dict={X_ph: x_batch, Y_ph: y_batch})\n",
        "\n",
        "        if epoch % 10 == 0:\n",
        "            val_loss, val_acc = sess.run([loss_op, accuracy], feed_dict={X_ph: X_val, Y_ph: y_val})\n",
        "            print(f\"Epoch {epoch}, val_loss: {val_loss:.4f}, val_acc: {val_acc:.4f}\")\n",
        "\n",
        "\n",
        "    test_acc = sess.run(accuracy, feed_dict={X_ph: X_test, Y_ph: y_test})\n",
        "    print(\"test Accuracy: \", test_acc)"
      ]
    },
    {
      "cell_type": "markdown",
      "id": "621da618",
      "metadata": {
        "id": "621da618"
      },
      "source": [
        "## Problema 4: Crear un modelo para House Prices"
      ]
    },
    {
      "cell_type": "code",
      "execution_count": 8,
      "id": "b8949056",
      "metadata": {
        "colab": {
          "base_uri": "https://localhost:8080/"
        },
        "id": "b8949056",
        "outputId": "f54cf63b-c8f1-421b-df47-e59d564e1f6c"
      },
      "outputs": [
        {
          "output_type": "stream",
          "name": "stdout",
          "text": [
            "(1460, 5)\n",
            "Epoch 0, val_loss: 0.599012\n",
            "Epoch 10, val_loss: 0.309312\n",
            "Epoch 20, val_loss: 0.325310\n",
            "Epoch 30, val_loss: 0.327118\n",
            "Epoch 40, val_loss: 0.341841\n",
            "Epoch 50, val_loss: 0.345836\n",
            "Epoch 60, val_loss: 0.332679\n",
            "Epoch 70, val_loss: 0.311613\n",
            "Epoch 80, val_loss: 0.301660\n",
            "Epoch 90, val_loss: 0.301401\n",
            "test_loss: 0.322643\n"
          ]
        }
      ],
      "source": [
        "# Loading datasets\n",
        "df = pd.read_csv(\"data/train.csv\")\n",
        "df = df[[\"GrLivArea\", \"YearBuilt\", \"SalePrice\", \"YrSold\", \"LotArea\"]].dropna()\n",
        "#df = df[[\"GrLivArea\", \"YearBuilt\", \"SalePrice\", \"YrSold\", \"LotArea\", \"HouseStyle\", \"MoSold\"]].dropna()\n",
        "#df = df.dropna()\n",
        "print(df.shape)\n",
        "#X = df[[\"GrLivArea\", \"YearBuilt\",  \"YrSold\", \"LotArea\"]].values\n",
        "X = df[[\"GrLivArea\", \"YearBuilt\"]].values\n",
        "y = df[[\"SalePrice\"]].values.reshape(-1, 1)\n",
        "\n",
        "# Normalizing\n",
        "X = (X - X.mean(axis=0)) / X.std(axis=0)\n",
        "y = (y - y.mean()) / y.std()\n",
        "\n",
        "# Split\n",
        "X_train, X_test, y_train, y_test = train_test_split(X, y, test_size=0.2, random_state=0)\n",
        "X_train, X_val, y_train, y_val = train_test_split(X_train, y_train, test_size=0.2)\n",
        "\n",
        "# Placerholder\n",
        "X_ph = tf.placeholder(tf.float32, [None, 2])\n",
        "Y_ph = tf.placeholder(tf.float32, [None, 1])\n",
        "\n",
        "# Weights and biases\n",
        "w1 = tf.Variable(tf.random_normal([2, 64]))\n",
        "b1 = tf.Variable(tf.zeros([64]))\n",
        "w2 = tf.Variable(tf.random_normal([64, 1]))\n",
        "b2 = tf.Variable(tf.zeros([1]))\n",
        "\n",
        "# Model\n",
        "l1 = tf.nn.relu(tf.matmul(X_ph, w1) + b1)\n",
        "out_put = tf.matmul(l1, w2) + b2\n",
        "\n",
        "#Loss and optimizer\n",
        "loss = tf.reduce_mean(tf.square(out_put - Y_ph))\n",
        "optimizer = tf.train.AdamOptimizer(learning_rate=0.01).minimize(loss)\n",
        "\n",
        "correct_pred = tf.equal(tf.arg_max(out_put, 1), tf.argmax(Y_ph, 1))\n",
        "accuracy = tf.reduce_mean(tf.cast(correct_pred, tf.float32))\n",
        "\n",
        "# Training\n",
        "init = tf.global_variables_initializer()\n",
        "with tf.Session() as sess:\n",
        "    sess.run(init)\n",
        "    for epoch in range(100):\n",
        "        for i in range(0, len(X_train), batch_size):\n",
        "            x_batch = X_train[i: i+batch_size]\n",
        "            y_batch = y_train[i: i+batch_size]\n",
        "            sess.run(optimizer, feed_dict={X_ph: x_batch, Y_ph: y_batch})\n",
        "\n",
        "        if epoch % 10 == 0:\n",
        "            val_loss = sess.run(loss, feed_dict={X_ph: X_val, Y_ph: y_val})\n",
        "            print(f\"Epoch {epoch}, val_loss: {val_loss:4f}\")\n",
        "\n",
        "    test_loss = sess.run(loss, feed_dict={X_ph: X_test, Y_ph: y_test})\n",
        "    print(f\"test_loss: {test_loss:4f}\")\n",
        "\n"
      ]
    },
    {
      "cell_type": "markdown",
      "id": "cdb31cff",
      "metadata": {
        "id": "cdb31cff"
      },
      "source": [
        "## Problema 5: Crear un modelo para MNIST"
      ]
    },
    {
      "cell_type": "code",
      "execution_count": 9,
      "id": "05a75764",
      "metadata": {
        "colab": {
          "base_uri": "https://localhost:8080/"
        },
        "id": "05a75764",
        "outputId": "b4f15889-cf47-4416-c56a-7cf16d071a25"
      },
      "outputs": [
        {
          "output_type": "stream",
          "name": "stdout",
          "text": [
            "(55000, 784)\n",
            "Epoch 0, val_loss: 0.9046, val_acc: 0.9146\n",
            "Epoch 1, val_loss: 0.4711, val_acc: 0.9326\n",
            "Epoch 2, val_loss: 0.3661, val_acc: 0.9404\n",
            "Epoch 3, val_loss: 0.3247, val_acc: 0.9482\n",
            "Epoch 4, val_loss: 0.2926, val_acc: 0.9446\n",
            "Epoch 5, val_loss: 0.2837, val_acc: 0.9490\n",
            "Epoch 6, val_loss: 0.2746, val_acc: 0.9532\n",
            "Epoch 7, val_loss: 0.2649, val_acc: 0.9564\n",
            "Epoch 8, val_loss: 0.2496, val_acc: 0.9600\n",
            "Epoch 9, val_loss: 0.2762, val_acc: 0.9594\n",
            "val_loss: 0.2933, val_acc: 0.9535\n"
          ]
        }
      ],
      "source": [
        "from keras.datasets import mnist\n",
        "(X_train, y_train), (X_test, y_test) = mnist.load_data()\n",
        "\n",
        "# Normalizing and reshaping\n",
        "X_train = X_train.reshape(-1, 784) / 255.0\n",
        "X_test = X_test.reshape(-1, 784) / 255.0\n",
        "\n",
        "#X_train = X_train / 255.0\n",
        "#X_test = X_test / 255.0\n",
        "\n",
        "# One-hot encode labels\n",
        "from sklearn.preprocessing import OneHotEncoder\n",
        "enc = OneHotEncoder(sparse_output=False)\n",
        "y_train = enc.fit_transform(y_train.reshape(-1, 1))\n",
        "y_test = enc.transform(y_test.reshape(-1, 1))\n",
        "\n",
        "# Spliting validation set\n",
        "X_val = X_train[-5000:]\n",
        "y_val = y_train[-5000:]\n",
        "X_train = X_train[:-5000]\n",
        "y_train = y_train[:-5000]\n",
        "\n",
        "print(X_train.shape)\n",
        "\n",
        "# Placeholders\n",
        "X = tf.placeholder(tf.float32, [None, 784])\n",
        "Y = tf.placeholder(tf.float32, [None, 10])\n",
        "\n",
        "# Model parameters\n",
        "w1 = tf.Variable(tf.random_normal([784, 128]))\n",
        "b1 = tf.Variable(tf.zeros([128]))\n",
        "w2 = tf.Variable(tf.random_normal([128, 10]))\n",
        "b2 = tf.Variable(tf.zeros([10]))\n",
        "\n",
        "# Bulding model\n",
        "l1 = tf.nn.relu(tf.matmul(X, w1) + b1)\n",
        "logits = tf.matmul(l1, w2) + b2\n",
        "\n",
        "#Loss and optimizer\n",
        "loss_op = tf.reduce_mean(tf.nn.softmax_cross_entropy_with_logits(labels=Y, logits=logits))\n",
        "optimizer = tf.train.AdamOptimizer(learning_rate=0.01).minimize(loss_op)\n",
        "\n",
        "#Accuracy\n",
        "correct_pred = tf.equal(tf.arg_max(logits, 1), tf.argmax(Y, 1))\n",
        "accuracy = tf.reduce_mean(tf.cast(correct_pred, tf.float32))\n",
        "\n",
        "# Training\n",
        "init = tf.global_variables_initializer()\n",
        "with tf.Session() as sess:\n",
        "    sess.run(init)\n",
        "    for epoch in range(10):\n",
        "        for i in range(0, len(X_train), 100):\n",
        "            x_batch = X_train[i: i+100]\n",
        "            y_batch = y_train[i: i+100]\n",
        "            sess.run(optimizer, feed_dict={X: x_batch, Y: y_batch})\n",
        "\n",
        "        val_loss, val_acc = sess.run([loss_op, accuracy], feed_dict={X: X_val, Y: y_val})\n",
        "        print(f\"Epoch {epoch}, val_loss: {val_loss:.4f}, val_acc: {val_acc:.4f}\")\n",
        "\n",
        "    val_loss, val_acc = sess.run([loss_op, accuracy], feed_dict={X: X_test, Y: y_test})\n",
        "    print(f\"val_loss: {val_loss:.4f}, val_acc: {val_acc:.4f}\")"
      ]
    }
  ],
  "metadata": {
    "kernelspec": {
      "display_name": "python312",
      "language": "python",
      "name": "python3"
    },
    "language_info": {
      "codemirror_mode": {
        "name": "ipython",
        "version": 3
      },
      "file_extension": ".py",
      "mimetype": "text/x-python",
      "name": "python",
      "nbconvert_exporter": "python",
      "pygments_lexer": "ipython3",
      "version": "3.12.10"
    },
    "colab": {
      "provenance": [],
      "include_colab_link": true
    }
  },
  "nbformat": 4,
  "nbformat_minor": 5
}