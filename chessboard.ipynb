{
  "cells": [
    {
      "cell_type": "markdown",
      "metadata": {
        "id": "view-in-github",
        "colab_type": "text"
      },
      "source": [
        "<a href=\"https://colab.research.google.com/github/OmarMachuca851/Task/blob/main/chessboard.ipynb\" target=\"_parent\"><img src=\"https://colab.research.google.com/assets/colab-badge.svg\" alt=\"Open In Colab\"/></a>"
      ]
    },
    {
      "cell_type": "markdown",
      "id": "fd339bde",
      "metadata": {
        "id": "fd339bde"
      },
      "source": [
        "# ***Wheat and the chessboard problem***"
      ]
    },
    {
      "cell_type": "markdown",
      "id": "e2c5da5c",
      "metadata": {
        "id": "e2c5da5c"
      },
      "source": [
        "## ***Problem 1: Number of wheat on a 2 x 2 square chessboard***"
      ]
    },
    {
      "cell_type": "code",
      "execution_count": null,
      "id": "09973048",
      "metadata": {
        "id": "09973048",
        "outputId": "156e3962-2138-46f6-c0d1-a90e97d39de9",
        "colab": {
          "base_uri": "https://localhost:8080/"
        }
      },
      "outputs": [
        {
          "output_type": "stream",
          "name": "stdout",
          "text": [
            "The number of wheats on a 2x2 shaped ndarray are :\n",
            ": [[1 2]\n",
            " [4 8]]\n"
          ]
        }
      ],
      "source": [
        "import numpy as np\n",
        "n_squares = 4\n",
        "small_board_list = [1]\n",
        "for _ in range(n_squares -1):\n",
        "    small_board_list.append(2*small_board_list[-1])\n",
        "\n",
        "small_board_ndarray = np.array(small_board_list).reshape(2,2)\n",
        "print(f'The number of wheats on a 2x2 shaped ndarray are :\\n: {small_board_ndarray}')"
      ]
    },
    {
      "cell_type": "markdown",
      "id": "c83e263d",
      "metadata": {
        "id": "c83e263d"
      },
      "source": [
        "## ***Problem 2: Extension to n x m cells***"
      ]
    },
    {
      "cell_type": "code",
      "execution_count": null,
      "id": "1a5c0e37",
      "metadata": {
        "id": "1a5c0e37",
        "outputId": "6b4761e3-175e-4530-dd9e-4f5749d79e99",
        "colab": {
          "base_uri": "https://localhost:8080/"
        }
      },
      "outputs": [
        {
          "output_type": "stream",
          "name": "stdout",
          "text": [
            "Number of weat on a 8x8 chessboard:\n",
            "[[1.00000000e+00 2.00000000e+00 4.00000000e+00 8.00000000e+00\n",
            "  1.60000000e+01 3.20000000e+01 6.40000000e+01 1.28000000e+02]\n",
            " [2.56000000e+02 5.12000000e+02 1.02400000e+03 2.04800000e+03\n",
            "  4.09600000e+03 8.19200000e+03 1.63840000e+04 3.27680000e+04]\n",
            " [6.55360000e+04 1.31072000e+05 2.62144000e+05 5.24288000e+05\n",
            "  1.04857600e+06 2.09715200e+06 4.19430400e+06 8.38860800e+06]\n",
            " [1.67772160e+07 3.35544320e+07 6.71088640e+07 1.34217728e+08\n",
            "  2.68435456e+08 5.36870912e+08 1.07374182e+09 2.14748365e+09]\n",
            " [4.29496730e+09 8.58993459e+09 1.71798692e+10 3.43597384e+10\n",
            "  6.87194767e+10 1.37438953e+11 2.74877907e+11 5.49755814e+11]\n",
            " [1.09951163e+12 2.19902326e+12 4.39804651e+12 8.79609302e+12\n",
            "  1.75921860e+13 3.51843721e+13 7.03687442e+13 1.40737488e+14]\n",
            " [2.81474977e+14 5.62949953e+14 1.12589991e+15 2.25179981e+15\n",
            "  4.50359963e+15 9.00719925e+15 1.80143985e+16 3.60287970e+16]\n",
            " [7.20575940e+16 1.44115188e+17 2.88230376e+17 5.76460752e+17\n",
            "  1.15292150e+18 2.30584301e+18 4.61168602e+18 9.22337204e+18]]\n"
          ]
        }
      ],
      "source": [
        "def wheat_on_chessboard(n_rows, n_cols):\n",
        "    chess_squares = n_rows * n_cols\n",
        "    chess_board_list = [1]\n",
        "    for square in range(chess_squares - 1):\n",
        "        chess_board_list.append(2*chess_board_list[square])\n",
        "\n",
        "    return np.array(chess_board_list).reshape(n_rows, n_cols)\n",
        "\n",
        "\n",
        "chessboard_8x8 = wheat_on_chessboard(8, 8)\n",
        "print(f'Number of weat on a 8x8 chessboard:\\n{chessboard_8x8}')"
      ]
    },
    {
      "cell_type": "markdown",
      "id": "113b4207",
      "metadata": {
        "id": "113b4207"
      },
      "source": [
        "## ***Problem 3: Total of wheats and column averages***"
      ]
    },
    {
      "cell_type": "code",
      "execution_count": null,
      "id": "b09b8ea3",
      "metadata": {
        "id": "b09b8ea3",
        "outputId": "e936c315-da4c-4c27-d26b-be0470626d6a",
        "colab": {
          "base_uri": "https://localhost:8080/",
          "height": 559
        }
      },
      "outputs": [
        {
          "output_type": "stream",
          "name": "stdout",
          "text": [
            "Total number of wheats on the 8x8 chessboard:\n",
            " 1.8446744073709552e+19\n",
            "Total of each column in the 8x8 chessboard:\n",
            " [9.04252160e+15 1.80850432e+16 3.61700864e+16 7.23401728e+16\n",
            " 1.44680346e+17 2.89360691e+17 5.78721383e+17 1.15744277e+18]\n"
          ]
        },
        {
          "output_type": "display_data",
          "data": {
            "text/plain": [
              "<Figure size 640x480 with 1 Axes>"
            ],
            "image/png": "[encoded data removed]"
          },
          "metadata": {}
        }
      ],
      "source": [
        "import matplotlib.pyplot as plt\n",
        "chessboard_8x8 = wheat_on_chessboard(8, 8)\n",
        "\n",
        "#total number of wheats\n",
        "total_wheat = np.sum(chessboard_8x8)\n",
        "print(f'Total number of wheats on the 8x8 chessboard:\\n {total_wheat}')\n",
        "\n",
        "#average of each column\n",
        "column_average = np.mean(chessboard_8x8, axis=0)\n",
        "print(f'Total of each column in the 8x8 chessboard:\\n {column_average}')\n",
        "\n",
        "#bar chat for column averages\n",
        "plt.xlabel('column')\n",
        "plt.ylabel('number')\n",
        "plt.title('number in each column')\n",
        "plt.bar(np.arange(1, len(chessboard_8x8[1]) + 1), column_average) #The number of each column is shown as provisional value\n",
        "plt.show()"
      ]
    },
    {
      "cell_type": "markdown",
      "id": "b620d11e",
      "metadata": {
        "id": "b620d11e"
      },
      "source": [
        "## ***Problem 4: Heat map of the number of wheat***"
      ]
    },
    {
      "cell_type": "code",
      "execution_count": null,
      "id": "07857d05",
      "metadata": {
        "id": "07857d05",
        "outputId": "48cb67dc-a6eb-41c5-f856-fbb36f65e735",
        "colab": {
          "base_uri": "https://localhost:8080/",
          "height": 472
        }
      },
      "outputs": [
        {
          "output_type": "display_data",
          "data": {
            "text/plain": [
              "<Figure size 640x480 with 1 Axes>"
            ],
            "image/png": "[encoded data removed]"
          },
          "metadata": {}
        }
      ],
      "source": [
        "chessboard_8x8 = wheat_on_chessboard(8, 8)\n",
        "\n",
        "plt.xlabel('column')\n",
        "plt.ylabel('row')\n",
        "plt.title('heatnap')\n",
        "plt.pcolor(chessboard_8x8)\n",
        "plt.show()"
      ]
    },
    {
      "cell_type": "markdown",
      "id": "1e92857b",
      "metadata": {
        "id": "1e92857b"
      },
      "source": [
        "## ***Problem 5: Comparing first half and second half***"
      ]
    },
    {
      "cell_type": "code",
      "execution_count": null,
      "id": "02cbc685",
      "metadata": {
        "id": "02cbc685",
        "outputId": "5d64dd6b-4d78-4b7c-b3db-442c9a46741b",
        "colab": {
          "base_uri": "https://localhost:8080/"
        }
      },
      "outputs": [
        {
          "output_type": "stream",
          "name": "stdout",
          "text": [
            "first half: 4294967295.0\n",
            "second half: 1.8446744069414584e+19\n",
            "The second half contrains 4294967296.0 times more than the first half\n"
          ]
        }
      ],
      "source": [
        "chessboard_8x8 = wheat_on_chessboard(8, 8)\n",
        "\n",
        "#first half (0 - 3)\n",
        "first_half = chessboard_8x8[0:4, :]\n",
        "first_half_sum = np.sum(first_half)\n",
        "\n",
        "#second half (4 - 7)\n",
        "second_half = chessboard_8x8[4:8, :]\n",
        "second_half_sum = np.sum(second_half)\n",
        "\n",
        "ratio = second_half_sum / first_half_sum\n",
        "\n",
        "print(f'first half: {first_half_sum}')\n",
        "print(f'second half: {second_half_sum}')\n",
        "print(f'The second half contrains {ratio} times more than the first half')"
      ]
    },
    {
      "cell_type": "markdown",
      "id": "62abd187",
      "metadata": {
        "id": "62abd187"
      },
      "source": [
        "## ***problem 6: Alternative methods for creating the chesboard***"
      ]
    },
    {
      "cell_type": "code",
      "execution_count": null,
      "id": "2aa471f5",
      "metadata": {
        "id": "2aa471f5",
        "outputId": "73eeac16-e342-4e01-f0e1-d0cd635d8081",
        "colab": {
          "base_uri": "https://localhost:8080/"
        }
      },
      "outputs": [
        {
          "output_type": "stream",
          "name": "stdout",
          "text": [
            "chessboard 8x8 append: \n",
            "[[                  1                   2                   4\n",
            "                    8                  16                  32\n",
            "                   64                 128]\n",
            " [                256                 512                1024\n",
            "                 2048                4096                8192\n",
            "                16384               32768]\n",
            " [              65536              131072              262144\n",
            "               524288             1048576             2097152\n",
            "              4194304             8388608]\n",
            " [           16777216            33554432            67108864\n",
            "            134217728           268435456           536870912\n",
            "           1073741824          2147483648]\n",
            " [         4294967296          8589934592         17179869184\n",
            "          34359738368         68719476736        137438953472\n",
            "         274877906944        549755813888]\n",
            " [      1099511627776       2199023255552       4398046511104\n",
            "        8796093022208      17592186044416      35184372088832\n",
            "       70368744177664     140737488355328]\n",
            " [    281474976710656     562949953421312    1125899906842624\n",
            "     2251799813685248    4503599627370496    9007199254740992\n",
            "    18014398509481984   36028797018963968]\n",
            " [  72057594037927936  144115188075855872  288230376151711744\n",
            "   576460752303423488 1152921504606846976 2305843009213693952\n",
            "  4611686018427387904 9223372036854775808]]\n",
            "\n",
            "\n",
            "chessboard 8x8 broadcast: \n",
            "[[                  1                   2                   4\n",
            "                    8                  16                  32\n",
            "                   64                 128]\n",
            " [                256                 512                1024\n",
            "                 2048                4096                8192\n",
            "                16384               32768]\n",
            " [              65536              131072              262144\n",
            "               524288             1048576             2097152\n",
            "              4194304             8388608]\n",
            " [           16777216            33554432            67108864\n",
            "            134217728           268435456           536870912\n",
            "           1073741824          2147483648]\n",
            " [         4294967296          8589934592         17179869184\n",
            "          34359738368         68719476736        137438953472\n",
            "         274877906944        549755813888]\n",
            " [      1099511627776       2199023255552       4398046511104\n",
            "        8796093022208      17592186044416      35184372088832\n",
            "       70368744177664     140737488355328]\n",
            " [    281474976710656     562949953421312    1125899906842624\n",
            "     2251799813685248    4503599627370496    9007199254740992\n",
            "    18014398509481984   36028797018963968]\n",
            " [  72057594037927936  144115188075855872  288230376151711744\n",
            "   576460752303423488 1152921504606846976 2305843009213693952\n",
            "  4611686018427387904 9223372036854775808]]\n"
          ]
        }
      ],
      "source": [
        "# method 1: using np.append()\n",
        "def wheat_on_chessboard_append(n_rows, n_cols):\n",
        "    chess_squares = n_rows * n_cols\n",
        "    wheat_counts = np.array([1], dtype=np.uint64)\n",
        "    for _ in range(chess_squares - 1):\n",
        "        wheat_counts = np.append(wheat_counts, 2*wheat_counts[-1])\n",
        "\n",
        "    return wheat_counts.reshape(n_rows, n_cols)\n",
        "\n",
        "# method 2: using broadcast\n",
        "def wheat_on_chessboard_broadcast(n_rows, n_cols):\n",
        "    chess_squares = n_rows * n_cols\n",
        "    indices = np.arange(chess_squares, dtype=np.uint64)\n",
        "    wheats_counts = 2**indices\n",
        "    return wheats_counts.reshape(n_rows, n_cols)\n",
        "\n",
        "chessboard_8x8_append = wheat_on_chessboard_append(8, 8)\n",
        "chessboard_8x8_broadcast = wheat_on_chessboard_broadcast(8, 8)\n",
        "\n",
        "print(f'chessboard 8x8 append: \\n{chessboard_8x8_append}')\n",
        "print(f'\\n')\n",
        "print(f'chessboard 8x8 broadcast: \\n{chessboard_8x8_broadcast}')"
      ]
    },
    {
      "cell_type": "markdown",
      "id": "4dabd1f9",
      "metadata": {
        "id": "4dabd1f9"
      },
      "source": [
        "## ***Problem 7: Comparing calculation time***"
      ]
    },
    {
      "cell_type": "code",
      "execution_count": null,
      "id": "f3b846e5",
      "metadata": {
        "id": "f3b846e5",
        "outputId": "12d20199-0458-419d-b6a0-c230ce33b03d",
        "colab": {
          "base_uri": "https://localhost:8080/"
        }
      },
      "outputs": [
        {
          "output_type": "stream",
          "name": "stdout",
          "text": [
            "263 ns ± 68.4 ns per loop (mean ± std. dev. of 7 runs, 1000000 loops each)\n"
          ]
        }
      ],
      "source": [
        "%%timeit\n",
        "# method 1: python list\n",
        "def wheat_on_chessboard(n_rows, n_cols):\n",
        "    chess_squares = n_rows * n_cols\n",
        "    chess_board_list = [1]\n",
        "    for square in range(chess_squares - 1):\n",
        "        chess_board_list.append(2*chess_board_list[square])\n",
        "\n",
        "    return np.array(chess_board_list).reshape(n_rows, n_cols)"
      ]
    },
    {
      "cell_type": "code",
      "execution_count": null,
      "id": "a0610fd4",
      "metadata": {
        "id": "a0610fd4",
        "outputId": "e6db4a53-f979-491e-aadd-0cd4b1d30ef3",
        "colab": {
          "base_uri": "https://localhost:8080/"
        }
      },
      "outputs": [
        {
          "output_type": "stream",
          "name": "stdout",
          "text": [
            "429 ns ± 93.2 ns per loop (mean ± std. dev. of 7 runs, 1000000 loops each)\n"
          ]
        }
      ],
      "source": [
        "%%timeit\n",
        "# method 2: Using np.append\n",
        "def wheat_on_chessboard_append(n_rows, n_cols):\n",
        "    chess_squares = n_rows * n_cols\n",
        "    wheat_counts = np.array([1], dtype=np.uint64)\n",
        "    for _ in range(chess_squares - 1):\n",
        "        wheat_counts = np.append(wheat_counts, 2*wheat_counts[-1])\n",
        "\n",
        "    return wheat_counts.reshape(n_rows, n_cols)"
      ]
    },
    {
      "cell_type": "code",
      "execution_count": null,
      "id": "c1afacf0",
      "metadata": {
        "id": "c1afacf0",
        "outputId": "a4ec2eee-6abf-44c2-ea03-b688a0fac3d1",
        "colab": {
          "base_uri": "https://localhost:8080/"
        }
      },
      "outputs": [
        {
          "output_type": "stream",
          "name": "stdout",
          "text": [
            "283 ns ± 94.5 ns per loop (mean ± std. dev. of 7 runs, 1000000 loops each)\n"
          ]
        }
      ],
      "source": [
        "%%timeit\n",
        "# method 3: Using Broadcast\n",
        "def wheat_on_chessboard_broadcast(n_rows, n_cols):\n",
        "    chess_squares = n_rows * n_cols\n",
        "    indices = np.arange(chess_squares, dtype=np.uint64)\n",
        "    wheats_counts = 2**indices\n",
        "    return wheats_counts.reshape(n_rows, n_cols)"
      ]
    }
  ],
  "metadata": {
    "kernelspec": {
      "display_name": "python311",
      "language": "python",
      "name": "python3"
    },
    "language_info": {
      "codemirror_mode": {
        "name": "ipython",
        "version": 3
      },
      "file_extension": ".py",
      "mimetype": "text/x-python",
      "name": "python",
      "nbconvert_exporter": "python",
      "pygments_lexer": "ipython3",
      "version": "3.11.10"
    },
    "colab": {
      "provenance": [],
      "include_colab_link": true
    }
  },
  "nbformat": 4,
  "nbformat_minor": 5
}