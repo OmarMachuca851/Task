{
  "cells": [
    {
      "cell_type": "markdown",
      "metadata": {
        "id": "view-in-github",
        "colab_type": "text"
      },
      "source": [
        "<a href=\"https://colab.research.google.com/github/OmarMachuca851/Task/blob/main/credit_information_learning.ipynb\" target=\"_parent\"><img src=\"https://colab.research.google.com/assets/colab-badge.svg\" alt=\"Open In Colab\"/></a>"
      ]
    },
    {
      "cell_type": "markdown",
      "id": "65c4a4b6",
      "metadata": {
        "id": "65c4a4b6"
      },
      "source": [
        "# aprendizaje de información de crédito"
      ]
    },
    {
      "cell_type": "markdown",
      "id": "fadc0d66",
      "metadata": {
        "id": "fadc0d66"
      },
      "source": [
        "## Problema 1: Confirmación del contenido de la competencia"
      ]
    },
    {
      "cell_type": "markdown",
      "id": "c8d44fb8",
      "metadata": {
        "id": "c8d44fb8"
      },
      "source": [
        "- **Qué aprender:** la información de transacción de los clientes\n",
        "- **Qué Predecir:** las habilidades de reembolso\n",
        "- **Archivo de envío:** Para cada SDK_ID_CURR en el conjunto de pruebas, debe predecir una probabilidad para la variable TARGET. El archivo debe contener un encabezado y tener el siguiente formato:\n",
        "\n",
        "```\n",
        "100001,0.1\n",
        "100005,0.9\n",
        "100013,0.2\n",
        "etc.\n",
        "```\n",
        "\n",
        "- **¿Cómo se evaluarán los elementos enviados?:** Las presentaciones se evalúan en el Área bajo la curva ROC entre la probabilidad predicha y el objetivo observado."
      ]
    },
    {
      "cell_type": "markdown",
      "id": "5cf9c963",
      "metadata": {
        "id": "5cf9c963"
      },
      "source": [
        "## Problema 2: Aprendizaje y verificación"
      ]
    },
    {
      "cell_type": "code",
      "execution_count": null,
      "id": "f285e768",
      "metadata": {
        "id": "f285e768"
      },
      "outputs": [],
      "source": [
        "import pandas as pd\n",
        "from sklearn.preprocessing import StandardScaler\n",
        "from sklearn.model_selection import train_test_split\n",
        "from sklearn.metrics import roc_auc_score\n",
        "from sklearn.metrics import accuracy_score\n",
        "\n",
        "# loading the csv of the dataset\n",
        "df = pd.read_csv('application_train.csv')\n",
        "\n",
        "#cleaning the dataset by removing the empy data(null)\n",
        "cleaned_df = df.dropna()\n",
        "\n",
        "categorical_feats = df.select_dtypes('object').columns.tolist()\n",
        "\n",
        "#separating them into variables\n",
        "X = df.drop(columns=['TARGET'])\n",
        "y = df['TARGET']"
      ]
    },
    {
      "cell_type": "code",
      "source": [
        "!pip install category_encoders"
      ],
      "metadata": {
        "colab": {
          "base_uri": "https://localhost:8080/"
        },
        "id": "ErhJvXvZOJVA",
        "outputId": "e6e6573e-328f-4536-f49c-d1dce9e7a435"
      },
      "id": "ErhJvXvZOJVA",
      "execution_count": null,
      "outputs": [
        {
          "output_type": "stream",
          "name": "stdout",
          "text": [
            "Collecting category_encoders\n",
            "  Downloading category_encoders-2.8.1-py3-none-any.whl.metadata (7.9 kB)\n",
            "Requirement already satisfied: numpy>=1.14.0 in /usr/local/lib/python3.11/dist-packages (from category_encoders) (2.0.2)\n",
            "Requirement already satisfied: pandas>=1.0.5 in /usr/local/lib/python3.11/dist-packages (from category_encoders) (2.2.2)\n",
            "Collecting patsy>=0.5.1 (from category_encoders)\n",
            "  Downloading patsy-1.0.1-py2.py3-none-any.whl.metadata (3.3 kB)\n",
            "Requirement already satisfied: scikit-learn>=1.6.0 in /usr/local/lib/python3.11/dist-packages (from category_encoders) (1.6.1)\n",
            "Requirement already satisfied: scipy>=1.0.0 in /usr/local/lib/python3.11/dist-packages (from category_encoders) (1.15.3)\n",
            "Collecting statsmodels>=0.9.0 (from category_encoders)\n",
            "  Downloading statsmodels-0.14.4-cp311-cp311-manylinux_2_17_x86_64.manylinux2014_x86_64.whl.metadata (9.2 kB)\n",
            "Requirement already satisfied: python-dateutil>=2.8.2 in /usr/local/lib/python3.11/dist-packages (from pandas>=1.0.5->category_encoders) (2.9.0.post0)\n",
            "Requirement already satisfied: pytz>=2020.1 in /usr/local/lib/python3.11/dist-packages (from pandas>=1.0.5->category_encoders) (2025.2)\n",
            "Requirement already satisfied: tzdata>=2022.7 in /usr/local/lib/python3.11/dist-packages (from pandas>=1.0.5->category_encoders) (2025.2)\n",
            "Requirement already satisfied: joblib>=1.2.0 in /usr/local/lib/python3.11/dist-packages (from scikit-learn>=1.6.0->category_encoders) (1.5.0)\n",
            "Requirement already satisfied: threadpoolctl>=3.1.0 in /usr/local/lib/python3.11/dist-packages (from scikit-learn>=1.6.0->category_encoders) (3.6.0)\n",
            "Requirement already satisfied: packaging>=21.3 in /usr/local/lib/python3.11/dist-packages (from statsmodels>=0.9.0->category_encoders) (25.0)\n",
            "Requirement already satisfied: six>=1.5 in /usr/local/lib/python3.11/dist-packages (from python-dateutil>=2.8.2->pandas>=1.0.5->category_encoders) (1.17.0)\n",
            "Downloading category_encoders-2.8.1-py3-none-any.whl (85 kB)\n",
            "\u001b[2K   \u001b[90m━━━━━━━━━━━━━━━━━━━━━━━━━━━━━━━━━━━━━━━━\u001b[0m \u001b[32m85.7/85.7 kB\u001b[0m \u001b[31m2.4 MB/s\u001b[0m eta \u001b[36m0:00:00\u001b[0m\n",
            "\u001b[?25hDownloading patsy-1.0.1-py2.py3-none-any.whl (232 kB)\n",
            "\u001b[2K   \u001b[90m━━━━━━━━━━━━━━━━━━━━━━━━━━━━━━━━━━━━━━━━\u001b[0m \u001b[32m232.9/232.9 kB\u001b[0m \u001b[31m8.3 MB/s\u001b[0m eta \u001b[36m0:00:00\u001b[0m\n",
            "\u001b[?25hDownloading statsmodels-0.14.4-cp311-cp311-manylinux_2_17_x86_64.manylinux2014_x86_64.whl (10.8 MB)\n",
            "\u001b[2K   \u001b[90m━━━━━━━━━━━━━━━━━━━━━━━━━━━━━━━━━━━━━━━━\u001b[0m \u001b[32m10.8/10.8 MB\u001b[0m \u001b[31m112.9 MB/s\u001b[0m eta \u001b[36m0:00:00\u001b[0m\n",
            "\u001b[?25hInstalling collected packages: patsy, statsmodels, category_encoders\n",
            "Successfully installed category_encoders-2.8.1 patsy-1.0.1 statsmodels-0.14.4\n"
          ]
        }
      ]
    },
    {
      "cell_type": "code",
      "execution_count": null,
      "id": "9f100058",
      "metadata": {
        "id": "9f100058"
      },
      "outputs": [],
      "source": [
        "from category_encoders import CountEncoder\n",
        "#Encodings values\n",
        "X = CountEncoder(cols=categorical_feats).fit_transform(X)"
      ]
    },
    {
      "cell_type": "code",
      "source": [
        "!pip install lightgbm"
      ],
      "metadata": {
        "colab": {
          "base_uri": "https://localhost:8080/"
        },
        "id": "b0I8442KRoF7",
        "outputId": "3e02800f-e6d0-4cc3-a8de-129d1d5c7e66"
      },
      "id": "b0I8442KRoF7",
      "execution_count": null,
      "outputs": [
        {
          "output_type": "stream",
          "name": "stdout",
          "text": [
            "Collecting lightgbm\n",
            "  Downloading lightgbm-4.6.0-py3-none-manylinux_2_28_x86_64.whl.metadata (17 kB)\n",
            "Requirement already satisfied: numpy>=1.17.0 in /usr/local/lib/python3.11/dist-packages (from lightgbm) (2.0.2)\n",
            "Requirement already satisfied: scipy in /usr/local/lib/python3.11/dist-packages (from lightgbm) (1.15.3)\n",
            "Downloading lightgbm-4.6.0-py3-none-manylinux_2_28_x86_64.whl (3.6 MB)\n",
            "\u001b[2K   \u001b[90m━━━━━━━━━━━━━━━━━━━━━━━━━━━━━━━━━━━━━━━━\u001b[0m \u001b[32m3.6/3.6 MB\u001b[0m \u001b[31m37.3 MB/s\u001b[0m eta \u001b[36m0:00:00\u001b[0m\n",
            "\u001b[?25hInstalling collected packages: lightgbm\n",
            "Successfully installed lightgbm-4.6.0\n"
          ]
        }
      ]
    },
    {
      "cell_type": "code",
      "execution_count": null,
      "id": "3bce3a9c",
      "metadata": {
        "colab": {
          "base_uri": "https://localhost:8080/"
        },
        "id": "3bce3a9c",
        "outputId": "d133dcc9-d416-4dc0-d274-be53391da296"
      },
      "outputs": [
        {
          "output_type": "stream",
          "name": "stdout",
          "text": [
            "[LightGBM] [Info] Number of positive: 18634, number of negative: 211999\n",
            "[LightGBM] [Info] Auto-choosing row-wise multi-threading, the overhead of testing was 0.114589 seconds.\n",
            "You can set `force_row_wise=true` to remove the overhead.\n",
            "And if memory is not enough, you can set `force_col_wise=true`.\n",
            "[LightGBM] [Info] Total Bins 11717\n",
            "[LightGBM] [Info] Number of data points in the train set: 230633, number of used features: 116\n",
            "[LightGBM] [Info] [binary:BoostFromScore]: pavg=0.080795 -> initscore=-2.431594\n",
            "[LightGBM] [Info] Start training from score -2.431594\n",
            "Acc:  0.9196909388901896\n",
            "ROC:  0.5088892347318036\n"
          ]
        },
        {
          "output_type": "stream",
          "name": "stderr",
          "text": [
            "/usr/local/lib/python3.11/dist-packages/sklearn/utils/validation.py:2739: UserWarning: X does not have valid feature names, but LGBMClassifier was fitted with feature names\n",
            "  warnings.warn(\n"
          ]
        }
      ],
      "source": [
        "# splitting  the data into trainig and testing data using train_test_split from sklearn\n",
        "X_train, X_test, y_train, y_test = train_test_split(X, y, test_size=0.25, random_state=42)\n",
        "\n",
        "# standardizing tha data\n",
        "scaler = StandardScaler()\n",
        "scaler.fit(X_train)\n",
        "X_train_trans = scaler.transform(X_train)\n",
        "X_test_trans = scaler.transform(X_test)\n",
        "\n",
        "# fitting the data\n",
        "from lightgbm import LGBMClassifier\n",
        "\n",
        "reg = LGBMClassifier(random_state=5).fit(X_train_trans, y_train)\n",
        "\n",
        "#predicting\n",
        "reg_pred = reg.predict(X_test_trans)\n",
        "\n",
        "print('Acc: ', accuracy_score(y_true=y_test, y_pred=reg_pred))\n",
        "print('ROC: ', roc_auc_score(y_test, reg_pred))"
      ]
    },
    {
      "cell_type": "markdown",
      "id": "73c2ce98",
      "metadata": {
        "id": "73c2ce98"
      },
      "source": [
        "## Problema 3: Estimación para los datos de prueba"
      ]
    },
    {
      "cell_type": "code",
      "execution_count": null,
      "id": "637023fb",
      "metadata": {
        "colab": {
          "base_uri": "https://localhost:8080/"
        },
        "id": "637023fb",
        "outputId": "8d065ebd-900e-47ed-d5f6-9abf73f60940"
      },
      "outputs": [
        {
          "output_type": "stream",
          "name": "stderr",
          "text": [
            "/usr/local/lib/python3.11/dist-packages/sklearn/utils/validation.py:2739: UserWarning: X does not have valid feature names, but LGBMClassifier was fitted with feature names\n",
            "  warnings.warn(\n"
          ]
        }
      ],
      "source": [
        "# loading the csv of the test dataset\n",
        "test_df = pd.read_csv('application_test.csv')\n",
        "\n",
        "# cleaning the datasets by removing the empy data(null)\n",
        "test_cleaned_df = test_df.dropna(axis=0)\n",
        "\n",
        "# separating them into variables\n",
        "test_X = CountEncoder(cols=categorical_feats).fit_transform(test_df)\n",
        "\n",
        "# standaring the data\n",
        "test_scaler = StandardScaler()\n",
        "test_X_trans = scaler.fit_transform(test_X)\n",
        "\n",
        "# predicting\n",
        "test_reg_pred = reg.predict(test_X_trans)\n",
        "\n",
        "kgl_submision = pd.concat([test_df['SK_ID_CURR'], pd.Series(test_reg_pred, name='TARGET')], axis=1)\n",
        "kgl_submision.to_csv('kgl_submission.csv', index=False)"
      ]
    },
    {
      "cell_type": "code",
      "execution_count": null,
      "id": "950487e1",
      "metadata": {
        "colab": {
          "base_uri": "https://localhost:8080/",
          "height": 424
        },
        "id": "950487e1",
        "outputId": "4c47bfae-cb59-4d16-a7fe-7b81dd829c4c"
      },
      "outputs": [
        {
          "output_type": "execute_result",
          "data": {
            "text/plain": [
              "       SK_ID_CURR  TARGET\n",
              "0          100001       0\n",
              "1          100005       0\n",
              "2          100013       0\n",
              "3          100028       0\n",
              "4          100038       0\n",
              "...           ...     ...\n",
              "48739      456221       0\n",
              "48740      456222       0\n",
              "48741      456223       0\n",
              "48742      456224       0\n",
              "48743      456250       0\n",
              "\n",
              "[48744 rows x 2 columns]"
            ],
            "text/html": [
              "\n",
              "  <div id=\"df-4620d880-a8b1-41ce-b34f-c221c4b1ea2d\" class=\"colab-df-container\">\n",
              "    <div>\n",
              "<style scoped>\n",
              "    .dataframe tbody tr th:only-of-type {\n",
              "        vertical-align: middle;\n",
              "    }\n",
              "\n",
              "    .dataframe tbody tr th {\n",
              "        vertical-align: top;\n",
              "    }\n",
              "\n",
              "    .dataframe thead th {\n",
              "        text-align: right;\n",
              "    }\n",
              "</style>\n",
              "<table border=\"1\" class=\"dataframe\">\n",
              "  <thead>\n",
              "    <tr style=\"text-align: right;\">\n",
              "      <th></th>\n",
              "      <th>SK_ID_CURR</th>\n",
              "      <th>TARGET</th>\n",
              "    </tr>\n",
              "  </thead>\n",
              "  <tbody>\n",
              "    <tr>\n",
              "      <th>0</th>\n",
              "      <td>100001</td>\n",
              "      <td>0</td>\n",
              "    </tr>\n",
              "    <tr>\n",
              "      <th>1</th>\n",
              "      <td>100005</td>\n",
              "      <td>0</td>\n",
              "    </tr>\n",
              "    <tr>\n",
              "      <th>2</th>\n",
              "      <td>100013</td>\n",
              "      <td>0</td>\n",
              "    </tr>\n",
              "    <tr>\n",
              "      <th>3</th>\n",
              "      <td>100028</td>\n",
              "      <td>0</td>\n",
              "    </tr>\n",
              "    <tr>\n",
              "      <th>4</th>\n",
              "      <td>100038</td>\n",
              "      <td>0</td>\n",
              "    </tr>\n",
              "    <tr>\n",
              "      <th>...</th>\n",
              "      <td>...</td>\n",
              "      <td>...</td>\n",
              "    </tr>\n",
              "    <tr>\n",
              "      <th>48739</th>\n",
              "      <td>456221</td>\n",
              "      <td>0</td>\n",
              "    </tr>\n",
              "    <tr>\n",
              "      <th>48740</th>\n",
              "      <td>456222</td>\n",
              "      <td>0</td>\n",
              "    </tr>\n",
              "    <tr>\n",
              "      <th>48741</th>\n",
              "      <td>456223</td>\n",
              "      <td>0</td>\n",
              "    </tr>\n",
              "    <tr>\n",
              "      <th>48742</th>\n",
              "      <td>456224</td>\n",
              "      <td>0</td>\n",
              "    </tr>\n",
              "    <tr>\n",
              "      <th>48743</th>\n",
              "      <td>456250</td>\n",
              "      <td>0</td>\n",
              "    </tr>\n",
              "  </tbody>\n",
              "</table>\n",
              "<p>48744 rows × 2 columns</p>\n",
              "</div>\n",
              "    <div class=\"colab-df-buttons\">\n",
              "\n",
              "  <div class=\"colab-df-container\">\n",
              "    <button class=\"colab-df-convert\" onclick=\"convertToInteractive('df-4620d880-a8b1-41ce-b34f-c221c4b1ea2d')\"\n",
              "            title=\"Convert this dataframe to an interactive table.\"\n",
              "            style=\"display:none;\">\n",
              "\n",
              "  <svg xmlns=\"http://www.w3.org/2000/svg\" height=\"24px\" viewBox=\"0 -960 960 960\">\n",
              "    <path d=\"M120-120v-720h720v720H120Zm60-500h600v-160H180v160Zm220 220h160v-160H400v160Zm0 220h160v-160H400v160ZM180-400h160v-160H180v160Zm440 0h160v-160H620v160ZM180-180h160v-160H180v160Zm440 0h160v-160H620v160Z\"/>\n",
              "  </svg>\n",
              "    </button>\n",
              "\n",
              "  <style>\n",
              "    .colab-df-container {\n",
              "      display:flex;\n",
              "      gap: 12px;\n",
              "    }\n",
              "\n",
              "    .colab-df-convert {\n",
              "      background-color: #E8F0FE;\n",
              "      border: none;\n",
              "      border-radius: 50%;\n",
              "      cursor: pointer;\n",
              "      display: none;\n",
              "      fill: #1967D2;\n",
              "      height: 32px;\n",
              "      padding: 0 0 0 0;\n",
              "      width: 32px;\n",
              "    }\n",
              "\n",
              "    .colab-df-convert:hover {\n",
              "      background-color: #E2EBFA;\n",
              "      box-shadow: 0px 1px 2px rgba(60, 64, 67, 0.3), 0px 1px 3px 1px rgba(60, 64, 67, 0.15);\n",
              "      fill: #174EA6;\n",
              "    }\n",
              "\n",
              "    .colab-df-buttons div {\n",
              "      margin-bottom: 4px;\n",
              "    }\n",
              "\n",
              "    [theme=dark] .colab-df-convert {\n",
              "      background-color: #3B4455;\n",
              "      fill: #D2E3FC;\n",
              "    }\n",
              "\n",
              "    [theme=dark] .colab-df-convert:hover {\n",
              "      background-color: #434B5C;\n",
              "      box-shadow: 0px 1px 3px 1px rgba(0, 0, 0, 0.15);\n",
              "      filter: drop-shadow(0px 1px 2px rgba(0, 0, 0, 0.3));\n",
              "      fill: #FFFFFF;\n",
              "    }\n",
              "  </style>\n",
              "\n",
              "    <script>\n",
              "      const buttonEl =\n",
              "        document.querySelector('#df-4620d880-a8b1-41ce-b34f-c221c4b1ea2d button.colab-df-convert');\n",
              "      buttonEl.style.display =\n",
              "        google.colab.kernel.accessAllowed ? 'block' : 'none';\n",
              "\n",
              "      async function convertToInteractive(key) {\n",
              "        const element = document.querySelector('#df-4620d880-a8b1-41ce-b34f-c221c4b1ea2d');\n",
              "        const dataTable =\n",
              "          await google.colab.kernel.invokeFunction('convertToInteractive',\n",
              "                                                    [key], {});\n",
              "        if (!dataTable) return;\n",
              "\n",
              "        const docLinkHtml = 'Like what you see? Visit the ' +\n",
              "          '<a target=\"_blank\" href=https://colab.research.google.com/notebooks/data_table.ipynb>data table notebook</a>'\n",
              "          + ' to learn more about interactive tables.';\n",
              "        element.innerHTML = '';\n",
              "        dataTable['output_type'] = 'display_data';\n",
              "        await google.colab.output.renderOutput(dataTable, element);\n",
              "        const docLink = document.createElement('div');\n",
              "        docLink.innerHTML = docLinkHtml;\n",
              "        element.appendChild(docLink);\n",
              "      }\n",
              "    </script>\n",
              "  </div>\n",
              "\n",
              "\n",
              "    <div id=\"df-b3d80588-8158-471f-8a15-915120d523a6\">\n",
              "      <button class=\"colab-df-quickchart\" onclick=\"quickchart('df-b3d80588-8158-471f-8a15-915120d523a6')\"\n",
              "                title=\"Suggest charts\"\n",
              "                style=\"display:none;\">\n",
              "\n",
              "<svg xmlns=\"http://www.w3.org/2000/svg\" height=\"24px\"viewBox=\"0 0 24 24\"\n",
              "     width=\"24px\">\n",
              "    <g>\n",
              "        <path d=\"M19 3H5c-1.1 0-2 .9-2 2v14c0 1.1.9 2 2 2h14c1.1 0 2-.9 2-2V5c0-1.1-.9-2-2-2zM9 17H7v-7h2v7zm4 0h-2V7h2v10zm4 0h-2v-4h2v4z\"/>\n",
              "    </g>\n",
              "</svg>\n",
              "      </button>\n",
              "\n",
              "<style>\n",
              "  .colab-df-quickchart {\n",
              "      --bg-color: #E8F0FE;\n",
              "      --fill-color: #1967D2;\n",
              "      --hover-bg-color: #E2EBFA;\n",
              "      --hover-fill-color: #174EA6;\n",
              "      --disabled-fill-color: #AAA;\n",
              "      --disabled-bg-color: #DDD;\n",
              "  }\n",
              "\n",
              "  [theme=dark] .colab-df-quickchart {\n",
              "      --bg-color: #3B4455;\n",
              "      --fill-color: #D2E3FC;\n",
              "      --hover-bg-color: #434B5C;\n",
              "      --hover-fill-color: #FFFFFF;\n",
              "      --disabled-bg-color: #3B4455;\n",
              "      --disabled-fill-color: #666;\n",
              "  }\n",
              "\n",
              "  .colab-df-quickchart {\n",
              "    background-color: var(--bg-color);\n",
              "    border: none;\n",
              "    border-radius: 50%;\n",
              "    cursor: pointer;\n",
              "    display: none;\n",
              "    fill: var(--fill-color);\n",
              "    height: 32px;\n",
              "    padding: 0;\n",
              "    width: 32px;\n",
              "  }\n",
              "\n",
              "  .colab-df-quickchart:hover {\n",
              "    background-color: var(--hover-bg-color);\n",
              "    box-shadow: 0 1px 2px rgba(60, 64, 67, 0.3), 0 1px 3px 1px rgba(60, 64, 67, 0.15);\n",
              "    fill: var(--button-hover-fill-color);\n",
              "  }\n",
              "\n",
              "  .colab-df-quickchart-complete:disabled,\n",
              "  .colab-df-quickchart-complete:disabled:hover {\n",
              "    background-color: var(--disabled-bg-color);\n",
              "    fill: var(--disabled-fill-color);\n",
              "    box-shadow: none;\n",
              "  }\n",
              "\n",
              "  .colab-df-spinner {\n",
              "    border: 2px solid var(--fill-color);\n",
              "    border-color: transparent;\n",
              "    border-bottom-color: var(--fill-color);\n",
              "    animation:\n",
              "      spin 1s steps(1) infinite;\n",
              "  }\n",
              "\n",
              "  @keyframes spin {\n",
              "    0% {\n",
              "      border-color: transparent;\n",
              "      border-bottom-color: var(--fill-color);\n",
              "      border-left-color: var(--fill-color);\n",
              "    }\n",
              "    20% {\n",
              "      border-color: transparent;\n",
              "      border-left-color: var(--fill-color);\n",
              "      border-top-color: var(--fill-color);\n",
              "    }\n",
              "    30% {\n",
              "      border-color: transparent;\n",
              "      border-left-color: var(--fill-color);\n",
              "      border-top-color: var(--fill-color);\n",
              "      border-right-color: var(--fill-color);\n",
              "    }\n",
              "    40% {\n",
              "      border-color: transparent;\n",
              "      border-right-color: var(--fill-color);\n",
              "      border-top-color: var(--fill-color);\n",
              "    }\n",
              "    60% {\n",
              "      border-color: transparent;\n",
              "      border-right-color: var(--fill-color);\n",
              "    }\n",
              "    80% {\n",
              "      border-color: transparent;\n",
              "      border-right-color: var(--fill-color);\n",
              "      border-bottom-color: var(--fill-color);\n",
              "    }\n",
              "    90% {\n",
              "      border-color: transparent;\n",
              "      border-bottom-color: var(--fill-color);\n",
              "    }\n",
              "  }\n",
              "</style>\n",
              "\n",
              "      <script>\n",
              "        async function quickchart(key) {\n",
              "          const quickchartButtonEl =\n",
              "            document.querySelector('#' + key + ' button');\n",
              "          quickchartButtonEl.disabled = true;  // To prevent multiple clicks.\n",
              "          quickchartButtonEl.classList.add('colab-df-spinner');\n",
              "          try {\n",
              "            const charts = await google.colab.kernel.invokeFunction(\n",
              "                'suggestCharts', [key], {});\n",
              "          } catch (error) {\n",
              "            console.error('Error during call to suggestCharts:', error);\n",
              "          }\n",
              "          quickchartButtonEl.classList.remove('colab-df-spinner');\n",
              "          quickchartButtonEl.classList.add('colab-df-quickchart-complete');\n",
              "        }\n",
              "        (() => {\n",
              "          let quickchartButtonEl =\n",
              "            document.querySelector('#df-b3d80588-8158-471f-8a15-915120d523a6 button');\n",
              "          quickchartButtonEl.style.display =\n",
              "            google.colab.kernel.accessAllowed ? 'block' : 'none';\n",
              "        })();\n",
              "      </script>\n",
              "    </div>\n",
              "\n",
              "  <div id=\"id_a8f23b38-75f9-49bb-80fd-664c349062f3\">\n",
              "    <style>\n",
              "      .colab-df-generate {\n",
              "        background-color: #E8F0FE;\n",
              "        border: none;\n",
              "        border-radius: 50%;\n",
              "        cursor: pointer;\n",
              "        display: none;\n",
              "        fill: #1967D2;\n",
              "        height: 32px;\n",
              "        padding: 0 0 0 0;\n",
              "        width: 32px;\n",
              "      }\n",
              "\n",
              "      .colab-df-generate:hover {\n",
              "        background-color: #E2EBFA;\n",
              "        box-shadow: 0px 1px 2px rgba(60, 64, 67, 0.3), 0px 1px 3px 1px rgba(60, 64, 67, 0.15);\n",
              "        fill: #174EA6;\n",
              "      }\n",
              "\n",
              "      [theme=dark] .colab-df-generate {\n",
              "        background-color: #3B4455;\n",
              "        fill: #D2E3FC;\n",
              "      }\n",
              "\n",
              "      [theme=dark] .colab-df-generate:hover {\n",
              "        background-color: #434B5C;\n",
              "        box-shadow: 0px 1px 3px 1px rgba(0, 0, 0, 0.15);\n",
              "        filter: drop-shadow(0px 1px 2px rgba(0, 0, 0, 0.3));\n",
              "        fill: #FFFFFF;\n",
              "      }\n",
              "    </style>\n",
              "    <button class=\"colab-df-generate\" onclick=\"generateWithVariable('kgl_submision')\"\n",
              "            title=\"Generate code using this dataframe.\"\n",
              "            style=\"display:none;\">\n",
              "\n",
              "  <svg xmlns=\"http://www.w3.org/2000/svg\" height=\"24px\"viewBox=\"0 0 24 24\"\n",
              "       width=\"24px\">\n",
              "    <path d=\"M7,19H8.4L18.45,9,17,7.55,7,17.6ZM5,21V16.75L18.45,3.32a2,2,0,0,1,2.83,0l1.4,1.43a1.91,1.91,0,0,1,.58,1.4,1.91,1.91,0,0,1-.58,1.4L9.25,21ZM18.45,9,17,7.55Zm-12,3A5.31,5.31,0,0,0,4.9,8.1,5.31,5.31,0,0,0,1,6.5,5.31,5.31,0,0,0,4.9,4.9,5.31,5.31,0,0,0,6.5,1,5.31,5.31,0,0,0,8.1,4.9,5.31,5.31,0,0,0,12,6.5,5.46,5.46,0,0,0,6.5,12Z\"/>\n",
              "  </svg>\n",
              "    </button>\n",
              "    <script>\n",
              "      (() => {\n",
              "      const buttonEl =\n",
              "        document.querySelector('#id_a8f23b38-75f9-49bb-80fd-664c349062f3 button.colab-df-generate');\n",
              "      buttonEl.style.display =\n",
              "        google.colab.kernel.accessAllowed ? 'block' : 'none';\n",
              "\n",
              "      buttonEl.onclick = () => {\n",
              "        google.colab.notebook.generateWithVariable('kgl_submision');\n",
              "      }\n",
              "      })();\n",
              "    </script>\n",
              "  </div>\n",
              "\n",
              "    </div>\n",
              "  </div>\n"
            ],
            "application/vnd.google.colaboratory.intrinsic+json": {
              "type": "dataframe",
              "variable_name": "kgl_submision",
              "summary": "{\n  \"name\": \"kgl_submision\",\n  \"rows\": 48744,\n  \"fields\": [\n    {\n      \"column\": \"SK_ID_CURR\",\n      \"properties\": {\n        \"dtype\": \"number\",\n        \"std\": 103169,\n        \"min\": 100001,\n        \"max\": 456250,\n        \"num_unique_values\": 48744,\n        \"samples\": [\n          208550,\n          173779,\n          365820\n        ],\n        \"semantic_type\": \"\",\n        \"description\": \"\"\n      }\n    },\n    {\n      \"column\": \"TARGET\",\n      \"properties\": {\n        \"dtype\": \"number\",\n        \"std\": 0,\n        \"min\": 0,\n        \"max\": 1,\n        \"num_unique_values\": 2,\n        \"samples\": [\n          1,\n          0\n        ],\n        \"semantic_type\": \"\",\n        \"description\": \"\"\n      }\n    }\n  ]\n}"
            }
          },
          "metadata": {},
          "execution_count": 8
        }
      ],
      "source": [
        "kgl_submision"
      ]
    },
    {
      "cell_type": "markdown",
      "id": "c2a20423",
      "metadata": {
        "id": "c2a20423"
      },
      "source": [
        "## Problema 4: Feature enginering"
      ]
    },
    {
      "cell_type": "code",
      "execution_count": null,
      "id": "ef62a54d",
      "metadata": {
        "colab": {
          "base_uri": "https://localhost:8080/"
        },
        "id": "ef62a54d",
        "outputId": "8f2edf3e-fc9d-475e-bf3f-5da15d200a98"
      },
      "outputs": [
        {
          "output_type": "stream",
          "name": "stdout",
          "text": [
            "(8602, 121) (8602,)\n"
          ]
        }
      ],
      "source": [
        "# cleaning the dataset removing the empy data (null)\n",
        "cleaned_df = df.dropna()\n",
        "\n",
        "# separating the intro variables\n",
        "X = cleaned_df.drop(columns=['TARGET'])\n",
        "y = cleaned_df['TARGET']\n",
        "print(X.shape, y.shape)"
      ]
    },
    {
      "cell_type": "code",
      "execution_count": null,
      "id": "bdd74af5",
      "metadata": {
        "colab": {
          "base_uri": "https://localhost:8080/"
        },
        "id": "bdd74af5",
        "outputId": "c88d509c-23a2-4e2a-d47c-7ee98036203d"
      },
      "outputs": [
        {
          "output_type": "stream",
          "name": "stdout",
          "text": [
            "[LightGBM] [Info] Number of positive: 407, number of negative: 6044\n",
            "[LightGBM] [Info] Auto-choosing col-wise multi-threading, the overhead of testing was 0.002984 seconds.\n",
            "You can set `force_col_wise=true` to remove the overhead.\n",
            "[LightGBM] [Info] Total Bins 10422\n",
            "[LightGBM] [Info] Number of data points in the train set: 6451, number of used features: 94\n",
            "[LightGBM] [Info] [binary:BoostFromScore]: pavg=0.063091 -> initscore=-2.698008\n",
            "[LightGBM] [Info] Start training from score -2.698008\n",
            "Accuracy:  0.9428172942817294\n"
          ]
        },
        {
          "output_type": "stream",
          "name": "stderr",
          "text": [
            "/usr/local/lib/python3.11/dist-packages/sklearn/utils/validation.py:2739: UserWarning: X does not have valid feature names, but LGBMClassifier was fitted with feature names\n",
            "  warnings.warn(\n"
          ]
        }
      ],
      "source": [
        "# imputation\n",
        "import numpy as np\n",
        "from sklearn.impute import SimpleImputer\n",
        "from sklearn.metrics import accuracy_score\n",
        "\n",
        "#X = df.drop(columns=['TARGET'])\n",
        "#y = df['TARGET']\n",
        "\n",
        "# pattern 1\n",
        "imp_mean = SimpleImputer(strategy='mean')\n",
        "\n",
        "# Select only numerical columns for mean imputation\n",
        "X_numerical = X.select_dtypes(include=np.number)\n",
        "\n",
        "# drop the missing values - apply imputer to numerical data\n",
        "# Note: This only imputes numerical columns. You will need to handle categoriacal columns separately.\n",
        "imp_X_numerical = imp_mean.fit_transform(X_numerical)\n",
        "\n",
        "# spliting the data into trainingand testing data using train_test_split from sklearn\n",
        "# use the imputed numerical data\n",
        "\n",
        "from sklearn.preprocessing import OneHotEncoder\n",
        "\n",
        "X_train_1, X_test_1, y_train_1, y_test_1 = train_test_split(imp_X_numerical, y, test_size=0.25, random_state=42)\n",
        "\n",
        "# standarizing the data\n",
        "scaler1 = StandardScaler()\n",
        "scaler1.fit(X_train_1)\n",
        "X_train_trans_1 = scaler1.transform(X_train_1)\n",
        "X_test_trans_1 = scaler1.transform(X_test_1)\n",
        "\n",
        "# fitting the data\n",
        "from lightgbm import LGBMClassifier\n",
        "lgbm = LGBMClassifier(random_state=5)\n",
        "lgb = lgbm.fit(X_train_trans_1, y_train_1)\n",
        "\n",
        "# predicing\n",
        "reg_pred_1 = lgb.predict(X_test_trans_1)\n",
        "\n",
        "print('Accuracy: ', accuracy_score(y_test_1, reg_pred_1))"
      ]
    },
    {
      "cell_type": "code",
      "execution_count": null,
      "id": "e782f799",
      "metadata": {
        "colab": {
          "base_uri": "https://localhost:8080/"
        },
        "id": "e782f799",
        "outputId": "56504213-43a6-4b35-8d99-514efb9d5f57"
      },
      "outputs": [
        {
          "output_type": "stream",
          "name": "stdout",
          "text": [
            "[LightGBM] [Info] Number of positive: 407, number of negative: 6044\n",
            "[LightGBM] [Info] Auto-choosing col-wise multi-threading, the overhead of testing was 0.005163 seconds.\n",
            "You can set `force_col_wise=true` to remove the overhead.\n",
            "[LightGBM] [Info] Total Bins 10749\n",
            "[LightGBM] [Info] Number of data points in the train set: 6451, number of used features: 203\n",
            "[LightGBM] [Info] [binary:BoostFromScore]: pavg=0.063091 -> initscore=-2.698008\n",
            "[LightGBM] [Info] Start training from score -2.698008\n",
            "Accuracy:  0.9442119944211994\n",
            "(8602, 121)\n"
          ]
        },
        {
          "output_type": "stream",
          "name": "stderr",
          "text": [
            "/usr/local/lib/python3.11/dist-packages/sklearn/utils/validation.py:2739: UserWarning: X does not have valid feature names, but LGBMClassifier was fitted with feature names\n",
            "  warnings.warn(\n"
          ]
        }
      ],
      "source": [
        "# imputation\n",
        "from sklearn.preprocessing import OneHotEncoder\n",
        "\n",
        "#X = df.drop(columns=['TARGET'])\n",
        "#y = df['TARGET']\n",
        "\n",
        "#separate numerical and categorical columns\n",
        "X_numerical = X.select_dtypes(include=np.number)\n",
        "X_categorical = X.select_dtypes(exclude=np.number)\n",
        "\n",
        "#impute numerical columns using the median strategy\n",
        "imp_median_numerical = SimpleImputer(strategy='median')\n",
        "imp_X_numerical = imp_median_numerical.fit_transform(X_numerical)\n",
        "\n",
        "\n",
        "#Impute  categorical columns using the most frenquent strategy (or another suitable strategy for categorical data)\n",
        "imp_mf_categorical = SimpleImputer(strategy='most_frequent')\n",
        "imp_X_categorical = imp_mf_categorical.fit_transform(X_categorical)\n",
        "\n",
        "# one hot encode the imputed categorical data\n",
        "enc_1 = OneHotEncoder(handle_unknown='ignore', sparse_output=False) # Use sparse_output=False for dense array output\n",
        "enc_imp_X_categorical = enc_1.fit_transform(imp_X_categorical)\n",
        "\n",
        "# combine the imputed numerical data and the one-hot encoded categorical data\n",
        "imp_X_1 =np.hstack((imp_X_numerical, enc_imp_X_categorical))\n",
        "\n",
        "#splitting the data into training and testing using train_test_Split form sklearn\n",
        "X_train_2, X_test_2, y_train_2, y_test_2 = train_test_split(imp_X_1, y, test_size=0.25, random_state=42)\n",
        "\n",
        "# standarizing the data\n",
        "scaler2 = StandardScaler()\n",
        "scaler2.fit(X_train_2)\n",
        "X_train_trans_2 = scaler2.transform(X_train_2)\n",
        "X_test_trans_2 = scaler2.transform(X_test_2)\n",
        "\n",
        "# fitting the data\n",
        "from lightgbm import LGBMClassifier\n",
        "lgbm_1 = LGBMClassifier(random_state=5)\n",
        "lgb_1 = lgbm_1.fit(X_train_trans_2, y_train_2)\n",
        "\n",
        "# predicting\n",
        "reg_pred_2 = lgb_1.predict(X_test_trans_2)\n",
        "\n",
        "print('Accuracy: ', accuracy_score(y_test_2, reg_pred_2))\n",
        "print(X.shape)"
      ]
    },
    {
      "cell_type": "code",
      "execution_count": null,
      "id": "5bae7b96",
      "metadata": {
        "colab": {
          "base_uri": "https://localhost:8080/"
        },
        "id": "5bae7b96",
        "outputId": "5330c403-e319-4c51-e99e-a96ea2d1593c"
      },
      "outputs": [
        {
          "output_type": "stream",
          "name": "stdout",
          "text": [
            "[LightGBM] [Info] Number of positive: 407, number of negative: 6044\n",
            "[LightGBM] [Info] Auto-choosing row-wise multi-threading, the overhead of testing was 0.025960 seconds.\n",
            "You can set `force_row_wise=true` to remove the overhead.\n",
            "And if memory is not enough, you can set `force_col_wise=true`.\n",
            "[LightGBM] [Info] Total Bins 5253\n",
            "[LightGBM] [Info] Number of data points in the train set: 6451, number of used features: 1751\n",
            "[LightGBM] [Info] [binary:BoostFromScore]: pavg=0.063091 -> initscore=-2.698008\n",
            "[LightGBM] [Info] Start training from score -2.698008\n"
          ]
        },
        {
          "output_type": "stream",
          "name": "stderr",
          "text": [
            "/usr/local/lib/python3.11/dist-packages/sklearn/utils/validation.py:2739: UserWarning: X does not have valid feature names, but LGBMClassifier was fitted with feature names\n",
            "  warnings.warn(\n"
          ]
        },
        {
          "output_type": "stream",
          "name": "stdout",
          "text": [
            "(2151,)\n",
            "Accuracy:  0.9437470943747094\n"
          ]
        }
      ],
      "source": [
        "imp_mf = SimpleImputer(strategy='most_frequent')\n",
        "\n",
        "#drop the missing values\n",
        "imp_X_2 = imp_mf.fit_transform(X)\n",
        "\n",
        "# One hot encoding\n",
        "enc_2 = OneHotEncoder(handle_unknown='ignore')\n",
        "enc_imp_X_2 = enc_2.fit_transform(imp_X_2).toarray()\n",
        "\n",
        "# splitting the data into training and testing data\n",
        "X_train_3, X_test_3 , y_train_3, y_test_3 = train_test_split(enc_imp_X_2, y, test_size=0.25, random_state=42)\n",
        "\n",
        "#standardizing the data\n",
        "scaler = StandardScaler()\n",
        "scaler.fit(X_train_3)\n",
        "X_train_trans_3 = scaler.transform(X_train_3)\n",
        "X_test_trans_3 = scaler.transform(X_test_3)\n",
        "\n",
        "# fitting the data\n",
        "lgbm_2 = LGBMClassifier(random_state=5)\n",
        "lgb_2 = lgbm_2.fit(X_train_trans_3, y_train_3)\n",
        "\n",
        "# predicting\n",
        "reg_pred_3 = lgb_2.predict(X_test_trans_3)\n",
        "\n",
        "print(reg_pred_3.shape)\n",
        "print('Accuracy: ', accuracy_score(y_test_3, reg_pred_3))"
      ]
    },
    {
      "cell_type": "code",
      "execution_count": null,
      "id": "0cfd93d9",
      "metadata": {
        "colab": {
          "base_uri": "https://localhost:8080/"
        },
        "id": "0cfd93d9",
        "outputId": "c92c7ede-516e-4d46-9593-4f40eaaff1c3"
      },
      "outputs": [
        {
          "output_type": "stream",
          "name": "stdout",
          "text": [
            "[LightGBM] [Info] Number of positive: 407, number of negative: 6044\n",
            "[LightGBM] [Info] Auto-choosing row-wise multi-threading, the overhead of testing was 0.026452 seconds.\n",
            "You can set `force_row_wise=true` to remove the overhead.\n",
            "And if memory is not enough, you can set `force_col_wise=true`.\n",
            "[LightGBM] [Info] Total Bins 5253\n",
            "[LightGBM] [Info] Number of data points in the train set: 6451, number of used features: 1751\n",
            "[LightGBM] [Info] [binary:BoostFromScore]: pavg=0.063091 -> initscore=-2.698008\n",
            "[LightGBM] [Info] Start training from score -2.698008\n"
          ]
        },
        {
          "output_type": "stream",
          "name": "stderr",
          "text": [
            "/usr/local/lib/python3.11/dist-packages/sklearn/utils/validation.py:2739: UserWarning: X does not have valid feature names, but LGBMClassifier was fitted with feature names\n",
            "  warnings.warn(\n"
          ]
        },
        {
          "output_type": "stream",
          "name": "stdout",
          "text": [
            "(2151,)\n",
            "Accuracy:  0.9437470943747094\n"
          ]
        }
      ],
      "source": [
        "imp_cnst = SimpleImputer(strategy='constant')\n",
        "\n",
        "# drop the missing values\n",
        "imp_X_3 = imp_cnst.fit_transform(X)\n",
        "#print(imp_X_3.shape)\n",
        "\n",
        "#Onehot encoding\n",
        "enc_3 = OneHotEncoder(handle_unknown='ignore')\n",
        "enc_imp_X_3 = enc_3.fit_transform(imp_X_3).toarray()\n",
        "\n",
        "#splitting the data into training and teting data using train_test_split from sklearn\n",
        "X_train_4, X_test_4 , y_train_4, y_test_4 = train_test_split(enc_imp_X_3, y, test_size=0.25, random_state=42)\n",
        "\n",
        "#standardizing the data\n",
        "scaler = StandardScaler()\n",
        "scaler.fit(X_train_4)\n",
        "X_train_trans_4 = scaler.transform(X_train_4)\n",
        "X_test_trans_4 = scaler.transform(X_test_4)\n",
        "\n",
        "# fitting the data\n",
        "lgbm_3 = LGBMClassifier(random_state=5)\n",
        "lgb_3 = lgbm_3.fit(X_train_trans_4, y_train_4)\n",
        "\n",
        "# predicting\n",
        "reg_pred_4 = lgb_3.predict(X_test_trans_4)\n",
        "\n",
        "print(reg_pred_4.shape)\n",
        "print('Accuracy: ', accuracy_score(y_test_4, reg_pred_4))"
      ]
    },
    {
      "cell_type": "markdown",
      "source": [
        "## problem 5: Posting to Notebooks"
      ],
      "metadata": {
        "id": "sas8J8t9NjUe"
      },
      "id": "sas8J8t9NjUe"
    },
    {
      "cell_type": "markdown",
      "source": [
        "https://www.kaggle.com/code/machucacruzomar/homecreditpredict"
      ],
      "metadata": {
        "id": "fEwpIcz1O3bF"
      },
      "id": "fEwpIcz1O3bF"
    }
  ],
  "metadata": {
    "kernelspec": {
      "display_name": "Python 3",
      "name": "python3"
    },
    "language_info": {
      "codemirror_mode": {
        "name": "ipython",
        "version": 3
      },
      "file_extension": ".py",
      "mimetype": "text/x-python",
      "name": "python",
      "nbconvert_exporter": "python",
      "pygments_lexer": "ipython3",
      "version": "3.11.10"
    },
    "colab": {
      "provenance": [],
      "gpuType": "V28",
      "include_colab_link": true
    },
    "accelerator": "TPU"
  },
  "nbformat": 4,
  "nbformat_minor": 5
}