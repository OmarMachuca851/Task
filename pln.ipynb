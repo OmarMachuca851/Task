{
  "cells": [
    {
      "cell_type": "markdown",
      "metadata": {
        "id": "view-in-github",
        "colab_type": "text"
      },
      "source": [
        "<a href=\"https://colab.research.google.com/github/OmarMachuca851/Task/blob/main/pln.ipynb\" target=\"_parent\"><img src=\"https://colab.research.google.com/assets/colab-badge.svg\" alt=\"Open In Colab\"/></a>"
      ]
    },
    {
      "cell_type": "markdown",
      "source": [
        "# Procesamiento del Lenguaje Natural (PLN)"
      ],
      "metadata": {
        "id": "SGwfQ5rZb0D5"
      },
      "id": "SGwfQ5rZb0D5"
    },
    {
      "cell_type": "markdown",
      "id": "0e29d617",
      "metadata": {
        "id": "0e29d617"
      },
      "source": [
        "## Problema 1: Implementación de BoW desde Scratch"
      ]
    },
    {
      "cell_type": "code",
      "execution_count": null,
      "id": "0d42f12c",
      "metadata": {
        "id": "0d42f12c",
        "outputId": "f2de41a9-31f9-4174-e03c-a90ec2f3920b"
      },
      "outputs": [
        {
          "data": {
            "text/html": [
              "<div>\n",
              "<style scoped>\n",
              "    .dataframe tbody tr th:only-of-type {\n",
              "        vertical-align: middle;\n",
              "    }\n",
              "\n",
              "    .dataframe tbody tr th {\n",
              "        vertical-align: top;\n",
              "    }\n",
              "\n",
              "    .dataframe thead th {\n",
              "        text-align: right;\n",
              "    }\n",
              "</style>\n",
              "<table border=\"1\" class=\"dataframe\">\n",
              "  <thead>\n",
              "    <tr style=\"text-align: right;\">\n",
              "      <th></th>\n",
              "      <th>this</th>\n",
              "      <th>movie</th>\n",
              "      <th>is</th>\n",
              "      <th>soooo</th>\n",
              "      <th>funny</th>\n",
              "      <th>what</th>\n",
              "      <th>a</th>\n",
              "      <th>i</th>\n",
              "      <th>never</th>\n",
              "      <th>best</th>\n",
              "      <th>ever</th>\n",
              "    </tr>\n",
              "  </thead>\n",
              "  <tbody>\n",
              "    <tr>\n",
              "      <th>0</th>\n",
              "      <td>1</td>\n",
              "      <td>1</td>\n",
              "      <td>1</td>\n",
              "      <td>1</td>\n",
              "      <td>1</td>\n",
              "      <td>0</td>\n",
              "      <td>0</td>\n",
              "      <td>0</td>\n",
              "      <td>0</td>\n",
              "      <td>0</td>\n",
              "      <td>0</td>\n",
              "    </tr>\n",
              "    <tr>\n",
              "      <th>1</th>\n",
              "      <td>0</td>\n",
              "      <td>1</td>\n",
              "      <td>0</td>\n",
              "      <td>0</td>\n",
              "      <td>0</td>\n",
              "      <td>1</td>\n",
              "      <td>1</td>\n",
              "      <td>1</td>\n",
              "      <td>1</td>\n",
              "      <td>0</td>\n",
              "      <td>0</td>\n",
              "    </tr>\n",
              "    <tr>\n",
              "      <th>2</th>\n",
              "      <td>1</td>\n",
              "      <td>2</td>\n",
              "      <td>0</td>\n",
              "      <td>0</td>\n",
              "      <td>0</td>\n",
              "      <td>0</td>\n",
              "      <td>0</td>\n",
              "      <td>0</td>\n",
              "      <td>0</td>\n",
              "      <td>1</td>\n",
              "      <td>1</td>\n",
              "    </tr>\n",
              "  </tbody>\n",
              "</table>\n",
              "</div>"
            ],
            "text/plain": [
              "   this  movie  is  soooo  funny  what  a  i  never  best  ever\n",
              "0     1      1   1      1      1     0  0  0      0     0     0\n",
              "1     0      1   0      0      0     1  1  1      1     0     0\n",
              "2     1      2   0      0      0     0  0  0      0     1     1"
            ]
          },
          "execution_count": 1,
          "metadata": {},
          "output_type": "execute_result"
        }
      ],
      "source": [
        "import numpy as np\n",
        "import pandas as pd\n",
        "import re\n",
        "res = [\"This movie is SOOOO funny!!!\",\n",
        "     \"What a movie! I never\",\n",
        "      \"best movie ever!!!!! this movie\"]\n",
        "\n",
        "def CountVectorizer(res, ngrams = 1):\n",
        "    bow = {}\n",
        "    for i, l in enumerate(res):\n",
        "        l = l.lower()\n",
        "        l = re.sub(r\"[^a-z ]\", \"\", l)\n",
        "        words = l.split()\n",
        "        if ngrams > 1:\n",
        "            w = []\n",
        "            for j in range(len(words)):\n",
        "                j_end = j + ngrams\n",
        "                if j_end > len(words):\n",
        "                    break\n",
        "                w.append(\" \".join(words[j: j_end]))\n",
        "\n",
        "            words = w\n",
        "\n",
        "        for word in words:\n",
        "            if not word in bow.keys():\n",
        "                bow[word] = np.zeros(len(res)).astype(np.int32)\n",
        "            bow[word][i] += 1\n",
        "\n",
        "    return bow\n",
        "\n",
        "bow = CountVectorizer(res)\n",
        "pd.DataFrame.from_dict(bow)"
      ]
    },
    {
      "cell_type": "code",
      "execution_count": null,
      "id": "df2568fa",
      "metadata": {
        "id": "df2568fa",
        "outputId": "03e5053f-51f5-4b7a-ad73-b1362f972294"
      },
      "outputs": [
        {
          "data": {
            "text/html": [
              "<div>\n",
              "<style scoped>\n",
              "    .dataframe tbody tr th:only-of-type {\n",
              "        vertical-align: middle;\n",
              "    }\n",
              "\n",
              "    .dataframe tbody tr th {\n",
              "        vertical-align: top;\n",
              "    }\n",
              "\n",
              "    .dataframe thead th {\n",
              "        text-align: right;\n",
              "    }\n",
              "</style>\n",
              "<table border=\"1\" class=\"dataframe\">\n",
              "  <thead>\n",
              "    <tr style=\"text-align: right;\">\n",
              "      <th></th>\n",
              "      <th>this movie</th>\n",
              "      <th>movie is</th>\n",
              "      <th>is soooo</th>\n",
              "      <th>soooo funny</th>\n",
              "      <th>what a</th>\n",
              "      <th>a movie</th>\n",
              "      <th>movie i</th>\n",
              "      <th>i never</th>\n",
              "      <th>best movie</th>\n",
              "      <th>movie ever</th>\n",
              "      <th>ever this</th>\n",
              "    </tr>\n",
              "  </thead>\n",
              "  <tbody>\n",
              "    <tr>\n",
              "      <th>0</th>\n",
              "      <td>1</td>\n",
              "      <td>1</td>\n",
              "      <td>1</td>\n",
              "      <td>1</td>\n",
              "      <td>0</td>\n",
              "      <td>0</td>\n",
              "      <td>0</td>\n",
              "      <td>0</td>\n",
              "      <td>0</td>\n",
              "      <td>0</td>\n",
              "      <td>0</td>\n",
              "    </tr>\n",
              "    <tr>\n",
              "      <th>1</th>\n",
              "      <td>0</td>\n",
              "      <td>0</td>\n",
              "      <td>0</td>\n",
              "      <td>0</td>\n",
              "      <td>1</td>\n",
              "      <td>1</td>\n",
              "      <td>1</td>\n",
              "      <td>1</td>\n",
              "      <td>0</td>\n",
              "      <td>0</td>\n",
              "      <td>0</td>\n",
              "    </tr>\n",
              "    <tr>\n",
              "      <th>2</th>\n",
              "      <td>1</td>\n",
              "      <td>0</td>\n",
              "      <td>0</td>\n",
              "      <td>0</td>\n",
              "      <td>0</td>\n",
              "      <td>0</td>\n",
              "      <td>0</td>\n",
              "      <td>0</td>\n",
              "      <td>1</td>\n",
              "      <td>1</td>\n",
              "      <td>1</td>\n",
              "    </tr>\n",
              "  </tbody>\n",
              "</table>\n",
              "</div>"
            ],
            "text/plain": [
              "   this movie  movie is  is soooo  soooo funny  what a  a movie  movie i  \\\n",
              "0           1         1         1            1       0        0        0   \n",
              "1           0         0         0            0       1        1        1   \n",
              "2           1         0         0            0       0        0        0   \n",
              "\n",
              "   i never  best movie  movie ever  ever this  \n",
              "0        0           0           0          0  \n",
              "1        1           0           0          0  \n",
              "2        0           1           1          1  "
            ]
          },
          "execution_count": 77,
          "metadata": {},
          "output_type": "execute_result"
        }
      ],
      "source": [
        "bow2 = CountVectorizer(res, ngrams=2)\n",
        "pd.DataFrame.from_dict(bow2)"
      ]
    },
    {
      "cell_type": "code",
      "execution_count": null,
      "id": "ab589a66",
      "metadata": {
        "id": "ab589a66",
        "outputId": "71548f65-4c19-41f1-ad7d-5a8f2778fbed"
      },
      "outputs": [
        {
          "data": {
            "text/html": [
              "<div>\n",
              "<style scoped>\n",
              "    .dataframe tbody tr th:only-of-type {\n",
              "        vertical-align: middle;\n",
              "    }\n",
              "\n",
              "    .dataframe tbody tr th {\n",
              "        vertical-align: top;\n",
              "    }\n",
              "\n",
              "    .dataframe thead th {\n",
              "        text-align: right;\n",
              "    }\n",
              "</style>\n",
              "<table border=\"1\" class=\"dataframe\">\n",
              "  <thead>\n",
              "    <tr style=\"text-align: right;\">\n",
              "      <th></th>\n",
              "      <th>this movie is</th>\n",
              "      <th>movie is soooo</th>\n",
              "      <th>is soooo funny</th>\n",
              "      <th>what a movie</th>\n",
              "      <th>a movie i</th>\n",
              "      <th>movie i never</th>\n",
              "      <th>best movie ever</th>\n",
              "      <th>movie ever this</th>\n",
              "      <th>ever this movie</th>\n",
              "    </tr>\n",
              "  </thead>\n",
              "  <tbody>\n",
              "    <tr>\n",
              "      <th>0</th>\n",
              "      <td>1</td>\n",
              "      <td>1</td>\n",
              "      <td>1</td>\n",
              "      <td>0</td>\n",
              "      <td>0</td>\n",
              "      <td>0</td>\n",
              "      <td>0</td>\n",
              "      <td>0</td>\n",
              "      <td>0</td>\n",
              "    </tr>\n",
              "    <tr>\n",
              "      <th>1</th>\n",
              "      <td>0</td>\n",
              "      <td>0</td>\n",
              "      <td>0</td>\n",
              "      <td>1</td>\n",
              "      <td>1</td>\n",
              "      <td>1</td>\n",
              "      <td>0</td>\n",
              "      <td>0</td>\n",
              "      <td>0</td>\n",
              "    </tr>\n",
              "    <tr>\n",
              "      <th>2</th>\n",
              "      <td>0</td>\n",
              "      <td>0</td>\n",
              "      <td>0</td>\n",
              "      <td>0</td>\n",
              "      <td>0</td>\n",
              "      <td>0</td>\n",
              "      <td>1</td>\n",
              "      <td>1</td>\n",
              "      <td>1</td>\n",
              "    </tr>\n",
              "  </tbody>\n",
              "</table>\n",
              "</div>"
            ],
            "text/plain": [
              "   this movie is  movie is soooo  is soooo funny  what a movie  a movie i  \\\n",
              "0              1               1               1             0          0   \n",
              "1              0               0               0             1          1   \n",
              "2              0               0               0             0          0   \n",
              "\n",
              "   movie i never  best movie ever  movie ever this  ever this movie  \n",
              "0              0                0                0                0  \n",
              "1              1                0                0                0  \n",
              "2              0                1                1                1  "
            ]
          },
          "execution_count": 78,
          "metadata": {},
          "output_type": "execute_result"
        }
      ],
      "source": [
        "bow2 = CountVectorizer(res, ngrams=3)\n",
        "pd.DataFrame.from_dict(bow2)"
      ]
    },
    {
      "cell_type": "markdown",
      "id": "bac8e836",
      "metadata": {
        "id": "bac8e836"
      },
      "source": [
        "## Problema 2: Cálculo de TF-IDF"
      ]
    },
    {
      "cell_type": "code",
      "execution_count": null,
      "id": "ae1535e6",
      "metadata": {
        "id": "ae1535e6",
        "outputId": "2519eedd-c44f-452d-dbb4-4a9df7e1739c"
      },
      "outputs": [
        {
          "name": "stdout",
          "output_type": "stream",
          "text": [
            "['neg', 'pos']\n",
            "x : Don't hate Heather Graham because she's beautiful, hate her because she's fun to watch in this movie. Like the hip clothing and funky surroundings, the actors in this flick work well together. Casey Affleck is hysterical and Heather Graham literally lights up the screen. The minor characters - Goran Visnjic {sigh} and Patricia Velazquez are as TALENTED as they are gorgeous. Congratulations Miramax & Director Lisa Krueger!\n"
          ]
        }
      ],
      "source": [
        "from sklearn.feature_extraction.text import TfidfVectorizer\n",
        "from sklearn.datasets import load_files\n",
        "import nltk\n",
        "\n",
        "train_review = load_files('./data/aclImdb/train/', encoding='utf-8')\n",
        "t_train, y_train = train_review.data, train_review.target\n",
        "\n",
        "test_review = load_files('./data/aclImdb/test/', encoding='utf-8')\n",
        "t_test, y_test = test_review.data, test_review.target\n",
        "\n",
        "# ラベルの0,1と意味の対応の表示\n",
        "print(train_review.target_names)\n",
        "print(\"x : {}\".format(t_test[0]))"
      ]
    },
    {
      "cell_type": "code",
      "execution_count": null,
      "id": "820e9a35",
      "metadata": {
        "id": "820e9a35"
      },
      "outputs": [],
      "source": [
        "import nltk\n",
        "from nltk.corpus import stopwords\n",
        "from sklearn.model_selection import train_test_split\n",
        "\n",
        "try:\n",
        "    nltk.data.find('corpora/stopwords')\n",
        "except LookupError:\n",
        "    nltk.download('stopwords')\n",
        "\n",
        "stop_words = set(stopwords.words('english'))\n",
        "tfidf_vectorizer = TfidfVectorizer(\n",
        "    max_features=5000,\n",
        "    stop_words=list(stop_words),\n",
        "    lowercase=True)\n",
        "\n",
        "x_train = tfidf_vectorizer.fit_transform(t_train)\n",
        "x_test = tfidf_vectorizer.transform(t_test)"
      ]
    },
    {
      "cell_type": "markdown",
      "id": "8a8d2d75",
      "metadata": {
        "id": "8a8d2d75"
      },
      "source": [
        "## Problema 3: Aprendizaje mediante TF-IDF"
      ]
    },
    {
      "cell_type": "code",
      "execution_count": null,
      "id": "b6cbf92b",
      "metadata": {
        "id": "b6cbf92b",
        "outputId": "205f8f72-6144-4afc-f4d6-33bac364a290"
      },
      "outputs": [
        {
          "name": "stdout",
          "output_type": "stream",
          "text": [
            "Train on 22500 samples, validate on 2500 samples\n",
            "Epoch 1/10\n",
            "22500/22500 [==============================] - 1s 63us/sample - loss: 0.3320 - acc: 0.8591 - val_loss: 0.2899 - val_acc: 0.8780\n",
            "Epoch 2/10\n",
            "22500/22500 [==============================] - 1s 57us/sample - loss: 0.2097 - acc: 0.9163 - val_loss: 0.3058 - val_acc: 0.8784\n",
            "Epoch 3/10\n",
            "22500/22500 [==============================] - 1s 56us/sample - loss: 0.1277 - acc: 0.9525 - val_loss: 0.3538 - val_acc: 0.8724\n",
            "Epoch 4/10\n",
            "22500/22500 [==============================] - 1s 56us/sample - loss: 0.0339 - acc: 0.9894 - val_loss: 0.5533 - val_acc: 0.8744\n",
            "Epoch 5/10\n",
            "22500/22500 [==============================] - 1s 56us/sample - loss: 0.0045 - acc: 0.9993 - val_loss: 0.7467 - val_acc: 0.8752\n",
            "Epoch 6/10\n",
            "22500/22500 [==============================] - 1s 55us/sample - loss: 7.0787e-04 - acc: 1.0000 - val_loss: 0.8601 - val_acc: 0.8760\n",
            "Epoch 7/10\n",
            "22500/22500 [==============================] - 1s 56us/sample - loss: 2.2774e-04 - acc: 1.0000 - val_loss: 0.9638 - val_acc: 0.8756\n",
            "Epoch 8/10\n",
            "22500/22500 [==============================] - 1s 56us/sample - loss: 8.7347e-05 - acc: 1.0000 - val_loss: 1.0580 - val_acc: 0.8736\n",
            "Epoch 9/10\n",
            "22500/22500 [==============================] - 1s 54us/sample - loss: 4.0301e-05 - acc: 1.0000 - val_loss: 1.1350 - val_acc: 0.8736\n",
            "Epoch 10/10\n",
            "22500/22500 [==============================] - 1s 54us/sample - loss: 2.1190e-05 - acc: 1.0000 - val_loss: 1.1936 - val_acc: 0.8732\n",
            "25000/25000 [==============================] - 1s 32us/sample - loss: 1.3112 - acc: 0.8539\n"
          ]
        },
        {
          "data": {
            "text/plain": [
              "[1.3112242875173687, 0.85388]"
            ]
          },
          "execution_count": 127,
          "metadata": {},
          "output_type": "execute_result"
        }
      ],
      "source": [
        "import pandas as pd\n",
        "import numpy as np\n",
        "from sklearn.model_selection import train_test_split\n",
        "from tensorflow.keras.models import Sequential\n",
        "from tensorflow.keras.layers import Dense\n",
        "\n",
        "# Building model\n",
        "model = Sequential([\n",
        "    Dense(200, activation='relu', input_shape=(5000, )),\n",
        "    Dense(100, activation='relu'),\n",
        "    Dense(1, activation='sigmoid')\n",
        "])\n",
        "\n",
        "# Compiling and training\n",
        "model.compile(optimizer='adam', loss='binary_crossentropy', metrics=['accuracy'])\n",
        "model.fit(x_train, y_train, epochs=10, validation_split=0.1)\n",
        "model.evaluate(x_test, y_test)"
      ]
    },
    {
      "cell_type": "code",
      "execution_count": null,
      "id": "0fd9e37b",
      "metadata": {
        "id": "0fd9e37b"
      },
      "outputs": [],
      "source": [
        "from sklearn.feature_extraction.text import TfidfVectorizer\n",
        "from sklearn.datasets import load_files\n",
        "import nltk\n",
        "\n",
        "for i in range(len(t_train)):\n",
        "        t_train[i] = re.sub(r\"[^a-z ]\", \"\", t_train[i])\n",
        "\n",
        "for i in range(len(t_test)):\n",
        "        t_test[i] = re.sub(r\"[^a-z ]\", \"\", t_test[i])\n",
        "\n",
        "stop_words = set(stopwords.words('english'))\n",
        "tfidf_vectorizer = TfidfVectorizer(\n",
        "    max_features=20000,\n",
        "    stop_words=list(stop_words),\n",
        "    lowercase=True,\n",
        "    ngram_range=(1, 3),\n",
        "    min_df=2,\n",
        "    max_df=0.85\n",
        ")\n",
        "\n",
        "x_train = tfidf_vectorizer.fit_transform(t_train)\n",
        "x_test = tfidf_vectorizer.transform(t_test)"
      ]
    },
    {
      "cell_type": "code",
      "execution_count": null,
      "id": "f829335b",
      "metadata": {
        "id": "f829335b",
        "outputId": "23c8f521-59ba-432e-f4cb-16aa7a428d8d"
      },
      "outputs": [
        {
          "name": "stdout",
          "output_type": "stream",
          "text": [
            "Train on 22500 samples, validate on 2500 samples\n",
            "Epoch 1/10\n",
            "22500/22500 [==============================] - 3s 136us/sample - loss: 0.3197 - acc: 0.8610 - val_loss: 0.2767 - val_acc: 0.8820\n",
            "Epoch 2/10\n",
            "22500/22500 [==============================] - 3s 125us/sample - loss: 0.1346 - acc: 0.9510 - val_loss: 0.3507 - val_acc: 0.8728\n",
            "Epoch 3/10\n",
            "22500/22500 [==============================] - 3s 124us/sample - loss: 0.0299 - acc: 0.9896 - val_loss: 0.5220 - val_acc: 0.8740\n",
            "Epoch 4/10\n",
            "22500/22500 [==============================] - 3s 124us/sample - loss: 0.0037 - acc: 0.9993 - val_loss: 0.7383 - val_acc: 0.8732\n",
            "Epoch 5/10\n",
            "22500/22500 [==============================] - 3s 122us/sample - loss: 4.6563e-04 - acc: 0.9999 - val_loss: 0.8837 - val_acc: 0.8712\n",
            "Epoch 6/10\n",
            "22500/22500 [==============================] - 3s 123us/sample - loss: 1.3118e-04 - acc: 1.0000 - val_loss: 1.0079 - val_acc: 0.8712\n",
            "Epoch 7/10\n",
            "22500/22500 [==============================] - 3s 122us/sample - loss: 6.5944e-05 - acc: 1.0000 - val_loss: 1.1011 - val_acc: 0.8688\n",
            "Epoch 8/10\n",
            "22500/22500 [==============================] - 3s 121us/sample - loss: 3.8866e-05 - acc: 1.0000 - val_loss: 1.1773 - val_acc: 0.8696\n",
            "Epoch 9/10\n",
            "22500/22500 [==============================] - 3s 121us/sample - loss: 2.2741e-05 - acc: 1.0000 - val_loss: 1.2781 - val_acc: 0.8708\n",
            "Epoch 10/10\n",
            "22500/22500 [==============================] - 3s 123us/sample - loss: 1.0854e-05 - acc: 1.0000 - val_loss: 1.3138 - val_acc: 0.8700\n",
            "25000/25000 [==============================] - 1s 50us/sample - loss: 1.4269 - acc: 0.8601\n"
          ]
        },
        {
          "data": {
            "text/plain": [
              "[1.4268868658915161, 0.86008]"
            ]
          },
          "execution_count": 141,
          "metadata": {},
          "output_type": "execute_result"
        }
      ],
      "source": [
        "# Building model\n",
        "model2 = Sequential([\n",
        "    Dense(1000, activation='relu', input_shape=(10000, )),\n",
        "    Dense(50, activation='relu'),\n",
        "    Dense(1, activation='sigmoid')\n",
        "])\n",
        "\n",
        "# Compiling and training\n",
        "model2.compile(optimizer='adam', loss='binary_crossentropy', metrics=['accuracy'])\n",
        "model2.fit(x_train, y_train, epochs=10, validation_split=0.1)\n",
        "model2.evaluate(x_test, y_test)"
      ]
    },
    {
      "cell_type": "markdown",
      "id": "d311f7be",
      "metadata": {
        "id": "d311f7be"
      },
      "source": [
        "## Problema 4: Implementación Scratch de TF-IDF"
      ]
    },
    {
      "cell_type": "code",
      "execution_count": null,
      "id": "c102a689",
      "metadata": {
        "id": "c102a689",
        "outputId": "13366153-3c99-4276-ec56-2c8f9d9ead15"
      },
      "outputs": [
        {
          "name": "stdout",
          "output_type": "stream",
          "text": [
            "1.0986122886681098\n"
          ]
        },
        {
          "name": "stderr",
          "output_type": "stream",
          "text": [
            "/home/omar/workspace/miniconda3/envs/tf115/lib/python3.7/site-packages/ipykernel_launcher.py:24: DeprecationWarning: Calling np.sum(generator) is deprecated, and in the future will give a different result. Use np.sum(np.fromiter(generator)) or the python sum builtin instead.\n"
          ]
        },
        {
          "data": {
            "text/html": [
              "<div>\n",
              "<style scoped>\n",
              "    .dataframe tbody tr th:only-of-type {\n",
              "        vertical-align: middle;\n",
              "    }\n",
              "\n",
              "    .dataframe tbody tr th {\n",
              "        vertical-align: top;\n",
              "    }\n",
              "\n",
              "    .dataframe thead th {\n",
              "        text-align: right;\n",
              "    }\n",
              "</style>\n",
              "<table border=\"1\" class=\"dataframe\">\n",
              "  <thead>\n",
              "    <tr style=\"text-align: right;\">\n",
              "      <th></th>\n",
              "      <th>this</th>\n",
              "      <th>movie</th>\n",
              "      <th>is</th>\n",
              "      <th>soooo</th>\n",
              "      <th>funny</th>\n",
              "      <th>what</th>\n",
              "      <th>a</th>\n",
              "      <th>i</th>\n",
              "      <th>never</th>\n",
              "      <th>best</th>\n",
              "      <th>ever</th>\n",
              "    </tr>\n",
              "  </thead>\n",
              "  <tbody>\n",
              "    <tr>\n",
              "      <th>0</th>\n",
              "      <td>0.081093</td>\n",
              "      <td>0.0</td>\n",
              "      <td>0.219722</td>\n",
              "      <td>0.219722</td>\n",
              "      <td>0.219722</td>\n",
              "      <td>0.000000</td>\n",
              "      <td>0.000000</td>\n",
              "      <td>0.000000</td>\n",
              "      <td>0.000000</td>\n",
              "      <td>0.000000</td>\n",
              "      <td>0.000000</td>\n",
              "    </tr>\n",
              "    <tr>\n",
              "      <th>1</th>\n",
              "      <td>0.000000</td>\n",
              "      <td>0.0</td>\n",
              "      <td>0.000000</td>\n",
              "      <td>0.000000</td>\n",
              "      <td>0.000000</td>\n",
              "      <td>0.219722</td>\n",
              "      <td>0.219722</td>\n",
              "      <td>0.219722</td>\n",
              "      <td>0.219722</td>\n",
              "      <td>0.000000</td>\n",
              "      <td>0.000000</td>\n",
              "    </tr>\n",
              "    <tr>\n",
              "      <th>2</th>\n",
              "      <td>0.081093</td>\n",
              "      <td>0.0</td>\n",
              "      <td>0.000000</td>\n",
              "      <td>0.000000</td>\n",
              "      <td>0.000000</td>\n",
              "      <td>0.000000</td>\n",
              "      <td>0.000000</td>\n",
              "      <td>0.000000</td>\n",
              "      <td>0.000000</td>\n",
              "      <td>0.219722</td>\n",
              "      <td>0.219722</td>\n",
              "    </tr>\n",
              "  </tbody>\n",
              "</table>\n",
              "</div>"
            ],
            "text/plain": [
              "       this  movie        is     soooo     funny      what         a  \\\n",
              "0  0.081093    0.0  0.219722  0.219722  0.219722  0.000000  0.000000   \n",
              "1  0.000000    0.0  0.000000  0.000000  0.000000  0.219722  0.219722   \n",
              "2  0.081093    0.0  0.000000  0.000000  0.000000  0.000000  0.000000   \n",
              "\n",
              "          i     never      best      ever  \n",
              "0  0.000000  0.000000  0.000000  0.000000  \n",
              "1  0.219722  0.219722  0.000000  0.000000  \n",
              "2  0.000000  0.000000  0.219722  0.219722  "
            ]
          },
          "execution_count": 135,
          "metadata": {},
          "output_type": "execute_result"
        }
      ],
      "source": [
        "def Tfidf(res, ngrams = 1):\n",
        "    bow = {}\n",
        "    for i, l in enumerate(res):\n",
        "        l = l.lower()\n",
        "        l = re.sub(r\"[^a-z ]\", \"\", l)\n",
        "        words = l.split()\n",
        "        if ngrams > 1:\n",
        "            w = []\n",
        "            for j in range(len(words)):\n",
        "                j_end = j + ngrams\n",
        "                if j_end > len(words):\n",
        "                    break\n",
        "                w.append(\" \".join(words[j: j_end]))\n",
        "\n",
        "            words = w\n",
        "\n",
        "        for word in words:\n",
        "            if not word in bow.keys():\n",
        "                bow[word] = np.zeros(len(res))\n",
        "            bow[word][i] += 1/len(words)\n",
        "    #idf = []\n",
        "    N = len(res)\n",
        "    for w in bow:\n",
        "        df = np.sum(wr > 0 for wr in bow[w])\n",
        "        idf = np.log(N / df)\n",
        "        bow[w] *= idf\n",
        "    print(idf)\n",
        "    return bow\n",
        "\n",
        "bow = Tfidf(res, ngrams=1)\n",
        "pd.DataFrame(bow)"
      ]
    },
    {
      "cell_type": "markdown",
      "id": "da67de41",
      "metadata": {
        "id": "da67de41"
      },
      "source": [
        "## Problema 5: Preprocesamiento del corpus"
      ]
    },
    {
      "cell_type": "code",
      "execution_count": null,
      "id": "00ab291a",
      "metadata": {
        "id": "00ab291a",
        "outputId": "94a53555-96b6-41eb-f1d9-98399f2dcc43"
      },
      "outputs": [
        {
          "data": {
            "text/plain": [
              "[['this', 'movie', 'is', 'soooo', 'funny'],\n",
              " ['what', 'a', 'movie', 'i', 'never'],\n",
              " ['best', 'movie', 'ever', 'this', 'movie']]"
            ]
          },
          "execution_count": 5,
          "metadata": {},
          "output_type": "execute_result"
        }
      ],
      "source": [
        "def preprocess_text(res):\n",
        "    prep_text = []\n",
        "    for text in res:\n",
        "        text = text.lower()\n",
        "        text = re.sub(r\"[^a-zA-Z\\s']\", '', text)\n",
        "        text = re.sub(r'\\s+', ' ', text).strip()\n",
        "        vtext = text.split()\n",
        "        prep_text.append(vtext)\n",
        "    return prep_text\n",
        "\n",
        "tokensV = preprocess_text(res)\n",
        "tokensV"
      ]
    },
    {
      "cell_type": "markdown",
      "id": "2e60c08a",
      "metadata": {
        "id": "2e60c08a"
      },
      "source": [
        "## Problema 6: Aprendiendo Word2Vec"
      ]
    },
    {
      "cell_type": "code",
      "execution_count": null,
      "id": "5a5afa48",
      "metadata": {
        "id": "5a5afa48",
        "outputId": "846a015e-2b44-46e8-bc85-c8142b1861ed"
      },
      "outputs": [
        {
          "name": "stdout",
          "output_type": "stream",
          "text": [
            ": ['movie', 'this', 'ever', 'best', 'never', 'i', 'a', 'what', 'funny', 'soooo', 'is']\n"
          ]
        }
      ],
      "source": [
        "from gensim.models import Word2Vec\n",
        "model = Word2Vec(min_count=1)\n",
        "model.build_vocab(tokensV) # 準備\n",
        "model.train(tokensV, total_examples=model.corpus_count, epochs=model.epochs) # 学習\n",
        "\n",
        "print(\": {}\".format(list(model.wv.index_to_key)))"
      ]
    },
    {
      "cell_type": "markdown",
      "id": "cab44122",
      "metadata": {
        "id": "cab44122"
      },
      "source": [
        "## Problema 7: (Avanzado) Visualización vectorial"
      ]
    },
    {
      "cell_type": "code",
      "execution_count": null,
      "id": "403a4c7e",
      "metadata": {
        "id": "403a4c7e",
        "outputId": "a8164ed5-e646-4dc2-81fb-89a8992e9797"
      },
      "outputs": [
        {
          "name": "stderr",
          "output_type": "stream",
          "text": [
            "/home/omar/workspace/miniconda3/envs/tf115/lib/python3.7/site-packages/sklearn/manifold/_t_sne.py:793: FutureWarning: The default learning rate in TSNE will change from 200.0 to 'auto' in 1.2.\n",
            "  FutureWarning,\n",
            "/home/omar/workspace/miniconda3/envs/tf115/lib/python3.7/site-packages/sklearn/manifold/_t_sne.py:986: FutureWarning: The PCA initialization in TSNE will change to have the standard deviation of PC1 equal to 1e-4 in 1.2. This will ensure better convergence.\n",
            "  FutureWarning,\n"
          ]
        },
        {
          "data": {
            "image/png": "[encoded data removed]",
            "text/plain": [
              "<Figure size 500x500 with 1 Axes>"
            ]
          },
          "metadata": {},
          "output_type": "display_data"
        }
      ],
      "source": [
        "from sklearn.manifold import TSNE\n",
        "import matplotlib.pyplot as plt\n",
        "\n",
        "vocabs = model.wv.index_to_key\n",
        "\n",
        "tsne_model = TSNE(perplexity=40, n_components=2, init=\"pca\", n_iter=5000, random_state=23)\n",
        "vectors_tsne = tsne_model.fit_transform(model.wv[vocabs])\n",
        "\n",
        "fig, ax = plt.subplots(figsize=(5,5))\n",
        "ax.scatter(vectors_tsne[:, 0], vectors_tsne[:, 1])\n",
        "for i, word in enumerate(list(vocabs)):\n",
        "    plt.annotate(word, xy=(vectors_tsne[i, 0], vectors_tsne[i, 1]))\n",
        "ax.set_yticklabels([])\n",
        "ax.set_xticklabels([])\n",
        "plt.show()"
      ]
    },
    {
      "cell_type": "code",
      "execution_count": null,
      "id": "4aedb37a",
      "metadata": {
        "id": "4aedb37a",
        "outputId": "c0ad426b-a922-4d94-f4a4-a726130a3423"
      },
      "outputs": [
        {
          "data": {
            "text/plain": [
              "[('ever', 0.1991206258535385),\n",
              " ('best', 0.07497532665729523),\n",
              " ('i', 0.06059185415506363)]"
            ]
          },
          "execution_count": 50,
          "metadata": {},
          "output_type": "execute_result"
        }
      ],
      "source": [
        "model.wv.most_similar(positive=\"funny\", topn=3)"
      ]
    },
    {
      "cell_type": "markdown",
      "id": "add804a6",
      "metadata": {
        "id": "add804a6"
      },
      "source": [
        "## Problema 8: (Tarea avanzada) Clasificación de reseñas de películas usando Word2Vec"
      ]
    },
    {
      "cell_type": "code",
      "execution_count": null,
      "id": "415f8a69",
      "metadata": {
        "id": "415f8a69",
        "outputId": "94946cd7-29c5-4ac8-8cd8-71a1e97b5d5a"
      },
      "outputs": [
        {
          "data": {
            "text/plain": [
              "(21942921, 28970445)"
            ]
          },
          "execution_count": 158,
          "metadata": {},
          "output_type": "execute_result"
        }
      ],
      "source": [
        "Vtokens_train = preprocess_text(t_train)\n",
        "\n",
        "model = Word2Vec(min_count=1, vector_size=100)\n",
        "model.build_vocab(Vtokens_train)\n",
        "model.train(Vtokens_train, total_examples=model.corpus_count, epochs=model.epochs)"
      ]
    },
    {
      "cell_type": "code",
      "execution_count": null,
      "id": "cbc2035a",
      "metadata": {
        "id": "cbc2035a",
        "outputId": "7eaaf534-1285-4262-a04f-6faf1c719afe"
      },
      "outputs": [
        {
          "name": "stdout",
          "output_type": "stream",
          "text": [
            "Shape de X: (25000, 100)\n",
            "Shape de y: (25000,)\n"
          ]
        }
      ],
      "source": [
        "def document_vector(tokens, model):\n",
        "    \"\"\"\n",
        "    Crea un vector para un documento promediando los vectores de sus palabras\n",
        "    \"\"\"\n",
        "    # Filtrar palabras que están en el vocabulario de Word2Vec\n",
        "    words = [word for word in tokens if word in model.wv.key_to_index]\n",
        "\n",
        "    if len(words) == 0:\n",
        "        return np.zeros(model.vector_size)\n",
        "\n",
        "    # Promediar los vectores de las palabras\n",
        "    return np.mean([model.wv[word] for word in words], axis=0)\n",
        "\n",
        "# Crear embeddings para todas las reseñas\n",
        "X = np.array([document_vector(t, model) for t in t_train])\n",
        "print(f\"Shape de X: {X.shape}\")\n",
        "y = y_train\n",
        "print(f\"Shape de y: {y.shape}\")"
      ]
    },
    {
      "cell_type": "code",
      "execution_count": null,
      "id": "73d589b1",
      "metadata": {
        "id": "73d589b1",
        "outputId": "56f559a7-0deb-4483-d7f6-bec2cbfc6ab7"
      },
      "outputs": [
        {
          "name": "stdout",
          "output_type": "stream",
          "text": [
            "Train on 16875 samples, validate on 1875 samples\n",
            "Epoch 1/10\n",
            "16875/16875 [==============================] - 1s 72us/sample - loss: 0.6906 - acc: 0.5281 - val_loss: 0.6837 - val_acc: 0.5643\n",
            "Epoch 2/10\n",
            "16875/16875 [==============================] - 1s 49us/sample - loss: 0.6850 - acc: 0.5516 - val_loss: 0.6803 - val_acc: 0.5696\n",
            "Epoch 3/10\n",
            "16875/16875 [==============================] - 1s 45us/sample - loss: 0.6829 - acc: 0.5609 - val_loss: 0.6728 - val_acc: 0.5851\n",
            "Epoch 4/10\n",
            "16875/16875 [==============================] - 1s 41us/sample - loss: 0.6785 - acc: 0.5716 - val_loss: 0.6703 - val_acc: 0.5808\n",
            "Epoch 5/10\n",
            "16875/16875 [==============================] - 1s 41us/sample - loss: 0.6748 - acc: 0.5788 - val_loss: 0.6651 - val_acc: 0.5957\n",
            "Epoch 6/10\n",
            "16875/16875 [==============================] - 1s 41us/sample - loss: 0.6702 - acc: 0.5896 - val_loss: 0.6652 - val_acc: 0.6037\n",
            "Epoch 7/10\n",
            "16875/16875 [==============================] - 1s 42us/sample - loss: 0.6669 - acc: 0.5950 - val_loss: 0.6606 - val_acc: 0.6064\n",
            "Epoch 8/10\n",
            "16875/16875 [==============================] - 1s 44us/sample - loss: 0.6687 - acc: 0.5941 - val_loss: 0.6590 - val_acc: 0.6032\n",
            "Epoch 9/10\n",
            "16875/16875 [==============================] - 1s 41us/sample - loss: 0.6655 - acc: 0.5979 - val_loss: 0.6637 - val_acc: 0.5968\n",
            "Epoch 10/10\n",
            "16875/16875 [==============================] - 1s 41us/sample - loss: 0.6667 - acc: 0.5935 - val_loss: 0.6589 - val_acc: 0.6053\n",
            "6250/6250 [==============================] - 0s 22us/sample - loss: 0.6647 - acc: 0.6061\n"
          ]
        },
        {
          "data": {
            "text/plain": [
              "[0.6647200886154174, 0.60608]"
            ]
          },
          "execution_count": 164,
          "metadata": {},
          "output_type": "execute_result"
        }
      ],
      "source": [
        "x_train, x_test, y_train1, y_test1 = train_test_split(X, y)\n",
        "# Building model\n",
        "model2 = Sequential([\n",
        "    Dense(100, activation='relu', input_shape=(100, )),\n",
        "    Dense(50, activation='relu'),\n",
        "    Dense(1, activation='sigmoid')\n",
        "])\n",
        "\n",
        "# Compiling and training\n",
        "model2.compile(optimizer='adam', loss='binary_crossentropy', metrics=['accuracy'])\n",
        "model2.fit(x_train, y_train1, epochs=10, validation_split=0.1)\n",
        "model2.evaluate(x_test, y_test1)"
      ]
    }
  ],
  "metadata": {
    "kernelspec": {
      "display_name": "tf115",
      "language": "python",
      "name": "python3"
    },
    "language_info": {
      "codemirror_mode": {
        "name": "ipython",
        "version": 3
      },
      "file_extension": ".py",
      "mimetype": "text/x-python",
      "name": "python",
      "nbconvert_exporter": "python",
      "pygments_lexer": "ipython3",
      "version": "3.7.16"
    },
    "colab": {
      "provenance": [],
      "include_colab_link": true
    }
  },
  "nbformat": 4,
  "nbformat_minor": 5
}